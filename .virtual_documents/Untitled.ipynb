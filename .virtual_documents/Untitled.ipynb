


import numpy as np


array1 = np.array([1,2,3])
type(array1)


array1.shape


array2 = np.array([[1,2,3], [2,3,4]])
type(array2)


array2.shape



