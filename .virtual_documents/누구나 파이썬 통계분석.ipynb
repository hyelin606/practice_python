


import pandas as pd


!pip install --upgrade pandas


df = pd.read_csv('data/ch1_sport_test.csv', index_col='학생번호')
df


df['악력']


df.shape





import numpy as np
import pandas as pd

df = pd.read_csv('data/ch2_scores_em.csv')
df.head()


scores = np.array(df['english'])[:10]
scores


scores_df = pd.DataFrame({'score': scores},
                         index=pd.Index(['A','B','C','D','E','F','G','H','I','J'],
                                        name = 'stuendt'))
scores_df


sum(scores)/len(scores)


np.mean(scores)


scores_df.mean()


sorted_scores = np.sort(scores)
sorted_scores


np.median(scores)


scores_df.median()


pd.Series([1,1,1,2,2,3]).mode()


pd.Series([1,2,3,4,5]).mode()


pd.Series(scores).describe()


english_scores = np.array(df['english'])
pd.Series(english_scores).describe()


import matplotlib.pyplot as plt

%matplotlib inline


fig = plt.figure(figsize=(10,6))
ax = fig.add_subplot(111)

freq, _, _ = ax.hist(english_scores, bins=10, range=(0,100))
ax.set_xlabel('score')
ax.set_ylabel('person number')
ax.set_xticks(np.linspace(0,100, 10+1))
ax.set_yticks(np.arange(0, freq.max()+1))
plt.show()


fig = plt.figure(figsize=(10,6))
ax = fig.add_subplot(111)

freq, _, _ = ax.hist(english_scores, bins=25, range=(0,100))
ax.set_xlabel('score')
ax.set_ylabel('person number')
ax.set_xticks(np.linspace(0,100, 25+1))
ax.set_yticks(np.arange(0, freq.max()+1))
plt.show()


fig=plt.figure(figsize=(5,6))
ax = fig.add_subplot(111)
ax.boxplot(english_scores, labels=['english'])

plt.show()





df = pd.read_csv('data/ch2_scores_em.csv',
                 index_col = 'student number')
df


en_scores = np.array(df['english'])[:10]
ma_scores = np.array(df['mathematics'])[:10]

scores_df = pd.DataFrame({'english': en_scores,
                          'mathematics': ma_scores},
                         index=pd.Index(['A','B','C','D','E','F','G','H','I','J'],
                                        name='student'))
scores_df


english_scores = np.array(df['english'])
math_scores = np.array(df['mathematics'])

fig = plt.figure(figsize=(8,8))
ax = fig.add_subplot(111)

ax.scatter(english_scores, math_scores)
ax.set_xlabel('english')
ax.set_ylabel('math')

plt.show()


fig = plt.figure(figsize=(10,8))
ax = fig.add_subplot(111)

c = ax.hist2d(english_scores, math_scores,bins=[9,8], range=[(35,80), (55,95)])
ax.set_xlabel('english')
ax.set_ylabel('mathematics')
ax.set_xticks(c[1])
ax.set_yticks(c[2])

fig.colorbar(c[3], ax=ax)
plt.show()





df = pd.read_csv('data/ch4_scores400.csv')
df


scores = np.array(df['score'])
scores[:10]


np.random.choice([1,2,3],3)


np.random.choice([1,2,3],3,replace=False)


np.random.seed(0)
np.random.choice([1,2,3],3)


np.random.seed(0)
sample = np.random.choice(scores,20)
sample.mean()


scores.mean()


for i in range(5):
    sample = np.random.choice(scores, 20)
    print(f'{i+1}번째 무작위추출로 얻은 표본평균', sample.mean())


dice = [1,2,3,4,5,6]
prob = [1/21, 2/21, 3/21, 4/21, 5/21, 6/21]

np.random.choice(dice, p=prob)


num_trial = 100
sample = np.random.choice(dice, num_trial, p=prob)
sample


fig = plt.figure(figsize=(10,6))
ax = fig.add_subplot(111)
ax.hist(sample, bins=6, range=(1,7), density=True, rwidth=0.8)
ax.hlines(prob, np.arange(1,7), np.arange(2,8), colors='gray')
ax.set_xticks(np.linspace(1.5,6.5,6))
ax.set_xticklabels(np.arange(1,7))
ax.set_xlabel('dice')
ax.set_ylabel('relative frequency')
plt.show()


fig = plt.figure(figsize=(10,6))
ax = fig.add_subplot(111)
ax.hist(scores, bins=100, range=(0,100), density=True)
ax.set_xlim(20,100)
ax.set_ylim(0,0.042)
ax.set_xlabel('score')
ax.set_ylabel('relative frequency')
plt.show()


np.random.choice(scores)






