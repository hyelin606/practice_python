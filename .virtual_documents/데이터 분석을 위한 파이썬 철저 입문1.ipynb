


x_list = ['x1', 'x2']
y_list = ['y1', 'y2']

print("x y")
for x in x_list:
    for y in y_list:
        print(x,y)


names = ['James', 'Rober', 'Lisa', 'Mary']
scores = [95,96,97,94]


for k in range(len(names)):
    print(names[k], scores[k])


for name, score in zip(names, scores):
    print(name, score)


i = 0
sum = 0

print("i sum")
while (sum<20):
    i = i + 1
    sum = sum + 1
    print( i, sum)



k = 0
while True:
    k = k + 1
    
    if(k > 3):
        break
    
        
    print(k)


for k in range(20):
    if(k>2):
        break
        
    print(k)


for k in range(5):
    if (k==2):
        continue
        
    print(k)


k = 0
while True:
    k = k + 1
    
    if (k ==2):
        print("continue next")
        continue
    if(k>4):
        break
    print(k)


numbers = [1,2,3,4,5]
square = []

for i in numbers:
    square.append(i**2)
    
print(square)


numbers == [1,2,3,4,5]
square = []

for i in numbers:
    if i>=3:
        square.append(i**2)
        
print(square)


numbers = [1,2,3,4,5]
square = [i**2 for i in numbers if i>=3]

print(square)





print("Hello Python")


print("Best", "python", "book")


print("Best", "python", "book", sep="-:*:-")


print("abcd"+"dfg")


print("Best", "python", "book" + ":", "This book")


x = 10
print(x)


name = "James"
ID_num = 789
print("Name:", name + ",", "ID Number:", ID_num)


print("James is my friend.\nHe is Korean.")


print("James is mt friend.\n\nHe is Korean.")


print("Welcome to")
print("python!")


print("Welcome to \npython!")


name = "광재"
print("%s는 나의 친구입니다." % name)


r = 3
PI = 3.14159265358979
print("반지름: %d, 원주율: %f" % (r,PI))


animal_0 = "cat"
animal_1 = "dog"
animal_2 = "fox"

print("Animal: {0}".format(animal_0))
print("Animal: {0}, {1}, {2}".format(animal_0, animal_1, animal_2))


print("Animal: {1}, {2}, {0}".format(animal_0, animal_1, animal_2))


name = "Tomas"
age = 10
a = 0.1234567890123456789
fmt_string = "String: {0}. Integer Number: {1}. Floating Number: {2}"
print(fmt_string.format(name, age, a))


a = 0.1234567890123456789
print("{0:.2f}, {0:.5f}".format(a))


yourName = input("당신의 이름은?")
print("당신은 {}이군요.".format(yourName))


num = input("숫자를 입력하세요")
print("당신이 입력한 숫자는 {}입니다.".format(num))


a = input("정사각형 한 변의 길이는?")
area = int(a) ** 2
print("정사각형의 넓이: {}".format(area))


b = input("정사각형 한 변의 길이는?")
area = float(b) ** 2
print("정사각형의 넓이: {}".format(area))





def my_func():
    print("My first function!")
    print("This is a function")

my_func()


def my_friend(friendName):
    print("{}는 나의 친구입니다.".format(friendName))
    
my_friend("철수")
my_friend("영미")


def my_student_info(name, school_ID, phonenumber):
    print("-----------------")
    print("-학생이름:", name)
    print("-학급번호:", school_ID)
    print("-전화번호:", phonenumber)
    
my_student_info("현아", "01", "01-234-567")


def my_cal(x,y):
    z = x*y
    return z

my_cal(3,4)


a = 5

def func1():
    a = 1
    print("[func1] 지역 변수 a =", a)
    
def func2():
    a = 2
    print("[func2] 지역 변수 a =", a)
    
def func3():
    print("[func3] 전역 변수 a =", a)
    
def func4():
    global a
    a = 4
    print("[func4] 전역 변수 a =", a)
    
func1()
func2()
func3()
func4()


(lambda x : x**2) (3)


mySquare = lambda x : x**2
mySquare(2)





class Bicycle():
    
    def move(self, speed):
        print("자전거: 시속 {0}킬로미터 전진".format(speed))
    
    def turn(self, direction):
        print("자전거: {0}회전".format(direction))
              
    def stop(self):
        print("자전거({0}, {1}): 정지".format(self.wheel_size, self.color))


my_bicycle = Bicycle()

my_bicycle.wheel_size = 26
my_bicycle.color = 'black'


my_bicycle.move(30)
my_bicycle.turn('좌')
my_bicycle.stop()


your_bicycle = Bicycle()

your_bicycle.wheel_size = 30
your_bicycle.color = 'red'


your_bicycle.move(70)
your_bicycle.turn('우')
your_bicycle.stop()





coffee_menu_str = "에스프레소, 아메리카노, 카페라테, 카푸치노"
coffee_menu_str.split(',')


"에스프레소 아메리카노 카페라테 카푸치노".split(maxsplit=2)


phone_number = "+82-01-2345-6789"
split_num = phone_number.split("-", 1)

print(split_num)
print("국내전화번호: {0}".format(split_num[1]))


str_f = "Python code."

print("찾는 문자열의 위치:", str_f.find("Python"))
print("찾는 문자열의 위치:", str_f.find("code"))
print("찾는 문자열의 위치:", str_f.find("n"))
print("찾는 문자열의 위지:", str_f.find("easy"))


str_c = "Python is powerful. Python is easy to learn. Python is open."

print("Python의 개수는?:", str_c.count("Python"))
print("powerful의 개수는?:", str_c.count("powerful"))
print("IPython의 개수는?", str_c.count("IPython"))


str_se = "Python is powerful. Python is easy to learn."
print("Python으로 시작?:", str_se.startswith("Python"))
print("is로 시작?:", str_se.startswith("is"))
print(".로 끝?:", str_se.endswith("."))
print("learn으로 끝?:", str_se.endswith("learn"))


str_a = 'Python is fast. Python is friendly. Python is open.'
print(str_a.replace('Python', 'IPython'))
print(str_a.replace('Python', 'IPython', 2))





import numpy as np


data1 = [0, 1, 2, 3, 4, 5]
a1 = np.array(data1)
a1


data2 = [0.1, 5, 4, 12, 0.5]
a2 = np.array(data2)
a2


a1.dtype


a2.dtype


np.array([0.5,2,0.01,8])


np.array([[1,2,3], [4,5,6], [7,8,9]])


np.arange(12).reshape(4,3)


b1 = np.arange(12).reshape(4,3)
b1.shape


b2 = np.arange(5)
b2.shape


np.linspace(1,10,10)


np.eye(3)


np.random.rand(2,3)


np.random.rand()


np.random.rand(2,3,4)


np.random.randint(10, size=(3,4))


np.random.randint(1,30)


arr1 = np.array([1,2,3,4])
arr2 = np.array([10,20,30,40])


arr1 + arr2


arr1 - arr2


arr1 * arr2


arr1 > arr2


A = np.array([0,1,2,3]).reshape(2,2)
A


B = np.array([3,2,0,1]).reshape(2,2)
B


A.dot(B)


np.transpose(A)


np.linalg.inv(A)


b2 = np.arange(10,100,10).reshape(3,3)
b2


import pandas as pd


s1 = pd.Series([10,20,30,40,50])
s1


s1.index
print(s1.index)


s1.values


s2 = pd.Series(['a','b','c',1,2,3])
s2


import numpy as np

s3 = pd.Series([np.nan,10,30])
s3


index_date = ['2018-10-07', '2018-10-08', '2018-10-09', '2018-10=10']
s4 = pd.Series([200,195,np.nan,205], index = index_date)
s4


s5 = pd.Series({'국어': 100, '영어': 95, '수학': 90})
s5


pd.date_range(start='2019-01-01', end='2019-01-07')


pd.date_range(start='2019-01-01', periods = 7)


pd.DataFrame([[1,2,3,], [4,5,6], [7,8,9]])


data_list = np.array([[10,20,30], [40,50,60], [70,80,90]])
pd.DataFrame(data_list)


table_data = {'연도': [2015,2016,2016,2017,2017],
              '지사': ['한국', '한국', '미국', '한국', '미국'],
              '고객 수': [200,250,450,300,500]}
table_data


pd.DataFrame(table_data)


df = pd.DataFrame(table_data, columns=['연도', '지사', '고객 수'])
df


df.index


df.columns


df.values


table_data3 = {'봄': [256.5, 264.3, 215.9, 223.2, 312.8],
               '여름': [770.6, 567.5, 599.8, 387.1, 446.2],
               '가을': [363.5, 231.2, 293.1, 247.7, 381.6],
               '겨울': [139.3, 59.9, 76.9, 109.1, 108.1]}
columns_list = ['봄', '여름', '가을', '겨울']
index_list = ['2012', '2013', '2014', '2015', '2016']

df3 = pd.DataFrame(table_data3, columns = columns_list, index = index_list)
df3


df3.mean()


df3.std()


df3.mean(axis=1)


df3.std(axis=1)


df3.describe()


import numpy as np
import pandas as pd

df1 = pd.DataFrame({'Class1': [95,92,98,100],
                    'Class2': [91,93,97,99]})
df1


df2 = pd.DataFrame({'Class1': [87,89],
                    'Class2': [85,90]})
df2


df3 = pd.concat([df1, df2], ignore_index = True)
df3


df3 = pd.DataFrame({'Class3': [90,91,92,93]})
df3


df1.join(df3)


df = pd.read_csv('data/sea_rain1_from_notepad.csv', encoding='cp949')
df


df = pd.read_csv('data/sea_rain1_from_notepad.csv',index_col="연도", encoding='cp949')
df


df_WH = pd.DataFrame({'Weight': [62,67,55,74],
                      'Height': [165,177,160,180]},
                      index=['ID_1','ID_2','ID_3','ID_4'])
df_WH.index.name = 'User'
df_WH


bmi = df_WH['Weight']/(df_WH['Height']/100)**2
bmi


df_WH['BMI']=bmi
df_WH


df_WH.to_csv('data/save_DataFrame.csv', index=False)





import matplotlib.pyplot as plt


import matplotlib.pyplot as plt

# Matplotlib에서 사용할 특정 폰트 설정
plt.rcParams['font.family'] = 'Arial'  # 'Arial'을 시스템에 설치된 원하는 폰트로 변경할 수 있습니다.

data1 = [10, 14, 19, 20, 25]
plt.plot(data1)
plt.show()


plt.plot(data1)
plt.show()


import numpy as np

x = np.arange(-4.5, 5, 0.5)
y = 2*x**2
[x,y]


plt.plot(x,y)
plt.show()


x = np.arange(-4.5, 5, 0.5)
y1 = 2*x**2
y2 = 5*x + 30
y3 = 4*x**2 +10


plt.plot(x,y1)
plt.plot(x,y2)
plt.plot(x,y3)
plt.show()


plt.plot(x,y1,x,y2,x,y3)
plt.show()


plt.plot(x,y1)
plt.figure()

plt.plot(x,y2)
plt.figure()

plt.plot(x,y3)
plt.show()


x = np.arange(0,10,0.1)
y1 = 0.3*(x-5)**2 + 1
y2 = -1.5*x + 3
y3 = np.sin(x)**2
y4 = 10*np.exp(-x) + 1

plt.subplot(2,2,1)
plt.plot(x,y1)

plt.subplot(2,2,2)
plt.plot(x,y2)

plt.subplot(2,2,3)
plt.plot(x,y3)

plt.subplot(2,2,4)
plt.plot(x,y4)

plt.show()


x = np.arange(0,5,1)
y1 = x
y2 = x + 1
y3 = x + 2
y4 = x + 3

plt.plot(x,y1,x,y2,x,y3,x,y4)
plt.show()


plt.plot(x,y1,'m',x,y2,'y',x,y3,'k',x,y4,'c')
plt.show()


plt.plot(x,y1,'-',x,y2,'--',x,y3,':',x,y4,'-.')
plt.show()


plt.plot(x,y1,'o',x,y2,'^',x,y3,'s',x,y4,'d')
plt.show()


x = np.arange(-4.5,5,0.5)
y = 2*x**3

plt.plot(x,y)
plt.xlabel('X-axis')
plt.ylabel('Y-axis')
plt.title('Graph title')
plt.grid(True)
plt.show()


height = [165,177,160,180,185,155,172]
weight = [62,67,55,74,90,43,64]

plt.scatter(height,weight)
plt.xlabel('Height(m)')
plt.ylabel('Weight(kg)')
plt.title('Height&Weight')
plt.grid(True)


size = 100*np.arange(1,8)
plt.scatter(height,weight,s=size,c='r')
plt.show()


member_IDs = ['m_01', 'm_02', 'm_03', 'm_04']
before_ex = [27,35,40,33]
after_ex = [30,38,42,37]

n_data = len(member_IDs)
index = np.arange(n_data)
colors = ['r','g','b','m']
plt.bar(index, before_ex, color = colors, tick_label = member_IDs, width = 0.6)
plt.show()


colors = ['r','g','b','m']
plt.barh(index, before_ex, color = colors, tick_label = member_IDs)
plt.show()


import matplotlib.pyplot as plt

barWidth = 0.4
index = range(len(member_IDs))

plt.bar(index, before_ex, color='c', align='edge', width=barWidth, label='before')
plt.bar([i + barWidth for i in index], after_ex, color='m', align='edge', width=barWidth, label='after')

plt.xticks([i + barWidth/2 for i in index], member_IDs)  # Adjust xticks position
plt.legend()
plt.xlabel('회원 ID')
plt.ylabel('윗몸일이키기 횟수')
plt.title('운동 시작 전과 후의 근지구력(복근) 변화 비교')
plt.show()


math = [76,82,84,83,90,86,85,92,72,71,100,87,81,76,94,78,81,60,79,69,74,87,82,68,79]
plt.hist(math)


plt.hist(math, bins=8)
plt.show()


fruit = ['사과', '바나나', '딸기', '오렌지', '포도']
result = [7,6,3,2,2]

plt.figure(figsize=(5,5))
plt.pie(result, labels=fruit, autopct='%.1f%%')
plt.show()
