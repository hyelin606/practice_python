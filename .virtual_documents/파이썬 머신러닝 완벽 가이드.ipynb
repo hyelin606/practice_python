


import sklearn

print(sklearn .__version__)


from sklearn.datasets import load_iris
from sklearn.tree import DecisionTreeClassifier
from sklearn.model_selection import train_test_split
import pandas as pd

iris = load_iris()
iris_data = iris.data
iris_label = iris.target

iris_df = pd.DataFrame(data=iris_data, columns=iris.feature_names)
iris_df['label'] = iris.target
iris_df.head(3)


iris_label


iris.target_names


X_train, X_test, y_train, y_test = train_test_split(iris_data,iris_label, test_size=0.2, random_state=11)


dt_clf = DecisionTreeClassifier(random_state=11)
dt_clf.fit(X_train, y_train)


pred = dt_clf.predict(X_test)


from sklearn.metrics import accuracy_score
print('예측 정확도: {0:.4f}'.format(accuracy_score(y_test, pred)))


from sklearn.datasets import load_iris
from sklearn.model_selection import train_test_split
from sklearn.tree import DecisionTreeClassifier
from sklearn.metrics import accuracy_score

dt_clf = DecisionTreeClassifier()
iris_data = load_iris()

X_train, X_test, y_train, y_test = train_test_split(iris_data.data, iris_data.target, test_size=0.3, random_state=121)

dt_clf.fit(X_train, y_train)
pred = dt_clf.predict(X_test)
accuracy = accuracy_score(y_test, pred)

accuracy



