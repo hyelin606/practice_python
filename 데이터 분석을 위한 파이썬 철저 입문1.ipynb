{
 "cells": [
  {
   "cell_type": "markdown",
   "id": "bc514b45-ac44-4974-b155-d8f04ffefd25",
   "metadata": {},
   "source": [
    "# 제어문"
   ]
  },
  {
   "cell_type": "code",
   "execution_count": 1,
   "id": "4d1a3380-7828-4ed7-8d6f-d54669d43b86",
   "metadata": {
    "tags": []
   },
   "outputs": [
    {
     "name": "stdout",
     "output_type": "stream",
     "text": [
      "x y\n",
      "x1 y1\n",
      "x1 y2\n",
      "x2 y1\n",
      "x2 y2\n"
     ]
    }
   ],
   "source": [
    "x_list = ['x1', 'x2']\n",
    "y_list = ['y1', 'y2']\n",
    "\n",
    "print(\"x y\")\n",
    "for x in x_list:\n",
    "    for y in y_list:\n",
    "        print(x,y)"
   ]
  },
  {
   "cell_type": "code",
   "execution_count": 2,
   "id": "4ffb2a32-8b39-4024-998b-4aeae1d62e43",
   "metadata": {
    "tags": []
   },
   "outputs": [],
   "source": [
    "names = ['James', 'Rober', 'Lisa', 'Mary']\n",
    "scores = [95,96,97,94]"
   ]
  },
  {
   "cell_type": "code",
   "execution_count": 3,
   "id": "a55d1837-0962-413d-bb21-10ae801f33da",
   "metadata": {
    "tags": []
   },
   "outputs": [
    {
     "name": "stdout",
     "output_type": "stream",
     "text": [
      "James 95\n",
      "Rober 96\n",
      "Lisa 97\n",
      "Mary 94\n"
     ]
    }
   ],
   "source": [
    "for k in range(len(names)):\n",
    "    print(names[k], scores[k])"
   ]
  },
  {
   "cell_type": "code",
   "execution_count": 4,
   "id": "c53c01f7-4d1e-4bc7-88a6-64f0ccf8bda7",
   "metadata": {
    "tags": []
   },
   "outputs": [
    {
     "name": "stdout",
     "output_type": "stream",
     "text": [
      "James 95\n",
      "Rober 96\n",
      "Lisa 97\n",
      "Mary 94\n"
     ]
    }
   ],
   "source": [
    "for name, score in zip(names, scores):\n",
    "    print(name, score)"
   ]
  },
  {
   "cell_type": "code",
   "execution_count": 5,
   "id": "e203a71f-4d5b-4465-99e0-8c67e8dca529",
   "metadata": {
    "tags": []
   },
   "outputs": [
    {
     "name": "stdout",
     "output_type": "stream",
     "text": [
      "i sum\n",
      "1 1\n",
      "2 2\n",
      "3 3\n",
      "4 4\n",
      "5 5\n",
      "6 6\n",
      "7 7\n",
      "8 8\n",
      "9 9\n",
      "10 10\n",
      "11 11\n",
      "12 12\n",
      "13 13\n",
      "14 14\n",
      "15 15\n",
      "16 16\n",
      "17 17\n",
      "18 18\n",
      "19 19\n",
      "20 20\n"
     ]
    }
   ],
   "source": [
    "i = 0\n",
    "sum = 0\n",
    "\n",
    "print(\"i sum\")\n",
    "while (sum<20):\n",
    "    i = i + 1\n",
    "    sum = sum + 1\n",
    "    print( i, sum)\n"
   ]
  },
  {
   "cell_type": "code",
   "execution_count": 6,
   "id": "d31aa39d-8b99-4112-96ec-211a67aaa917",
   "metadata": {
    "tags": []
   },
   "outputs": [
    {
     "name": "stdout",
     "output_type": "stream",
     "text": [
      "1\n",
      "2\n",
      "3\n"
     ]
    }
   ],
   "source": [
    "k = 0\n",
    "while True:\n",
    "    k = k + 1\n",
    "    \n",
    "    if(k > 3):\n",
    "        break\n",
    "    \n",
    "        \n",
    "    print(k)"
   ]
  },
  {
   "cell_type": "code",
   "execution_count": 7,
   "id": "3128bb02-6a42-4f2c-9970-a95e51fc590c",
   "metadata": {
    "tags": []
   },
   "outputs": [
    {
     "name": "stdout",
     "output_type": "stream",
     "text": [
      "0\n",
      "1\n",
      "2\n"
     ]
    }
   ],
   "source": [
    "for k in range(20):\n",
    "    if(k>2):\n",
    "        break\n",
    "        \n",
    "    print(k)"
   ]
  },
  {
   "cell_type": "code",
   "execution_count": 8,
   "id": "4c425ab3-0437-415f-9924-b975933b02bd",
   "metadata": {
    "tags": []
   },
   "outputs": [
    {
     "name": "stdout",
     "output_type": "stream",
     "text": [
      "0\n",
      "1\n",
      "3\n",
      "4\n"
     ]
    }
   ],
   "source": [
    "for k in range(5):\n",
    "    if (k==2):\n",
    "        continue\n",
    "        \n",
    "    print(k)"
   ]
  },
  {
   "cell_type": "code",
   "execution_count": 9,
   "id": "03fa1518-cd4f-4fa9-9bde-9b30ab740854",
   "metadata": {
    "tags": []
   },
   "outputs": [
    {
     "name": "stdout",
     "output_type": "stream",
     "text": [
      "1\n",
      "continue next\n",
      "3\n",
      "4\n"
     ]
    }
   ],
   "source": [
    "k = 0\n",
    "while True:\n",
    "    k = k + 1\n",
    "    \n",
    "    if (k ==2):\n",
    "        print(\"continue next\")\n",
    "        continue\n",
    "    if(k>4):\n",
    "        break\n",
    "    print(k)"
   ]
  },
  {
   "cell_type": "code",
   "execution_count": 10,
   "id": "8b070723-f3d2-489b-947c-9e8691846c0a",
   "metadata": {
    "tags": []
   },
   "outputs": [
    {
     "name": "stdout",
     "output_type": "stream",
     "text": [
      "[1, 4, 9, 16, 25]\n"
     ]
    }
   ],
   "source": [
    "numbers = [1,2,3,4,5]\n",
    "square = []\n",
    "\n",
    "for i in numbers:\n",
    "    square.append(i**2)\n",
    "    \n",
    "print(square)"
   ]
  },
  {
   "cell_type": "code",
   "execution_count": 11,
   "id": "8b693183-0826-442c-84a3-199900e0f387",
   "metadata": {
    "tags": []
   },
   "outputs": [
    {
     "name": "stdout",
     "output_type": "stream",
     "text": [
      "[9, 16, 25]\n"
     ]
    }
   ],
   "source": [
    "numbers == [1,2,3,4,5]\n",
    "square = []\n",
    "\n",
    "for i in numbers:\n",
    "    if i>=3:\n",
    "        square.append(i**2)\n",
    "        \n",
    "print(square)"
   ]
  },
  {
   "cell_type": "code",
   "execution_count": 12,
   "id": "600be3f5-d406-4f73-857a-b0418006c904",
   "metadata": {
    "tags": []
   },
   "outputs": [
    {
     "name": "stdout",
     "output_type": "stream",
     "text": [
      "[9, 16, 25]\n"
     ]
    }
   ],
   "source": [
    "numbers = [1,2,3,4,5]\n",
    "square = [i**2 for i in numbers if i>=3]\n",
    "\n",
    "print(square)"
   ]
  },
  {
   "cell_type": "markdown",
   "id": "5df68003-e45c-4575-9bd2-a76cbead7523",
   "metadata": {},
   "source": [
    "# 입력과 출력"
   ]
  },
  {
   "cell_type": "code",
   "execution_count": 13,
   "id": "9cad0efd-c3d1-4c4a-8300-dab25f5e9149",
   "metadata": {
    "tags": []
   },
   "outputs": [
    {
     "name": "stdout",
     "output_type": "stream",
     "text": [
      "Hello Python\n"
     ]
    }
   ],
   "source": [
    "print(\"Hello Python\")"
   ]
  },
  {
   "cell_type": "code",
   "execution_count": 14,
   "id": "009dbd78-4970-482e-ba38-4a2a77351a87",
   "metadata": {
    "tags": []
   },
   "outputs": [
    {
     "name": "stdout",
     "output_type": "stream",
     "text": [
      "Best python book\n"
     ]
    }
   ],
   "source": [
    "print(\"Best\", \"python\", \"book\")"
   ]
  },
  {
   "cell_type": "code",
   "execution_count": 15,
   "id": "161f90b0-ba05-4429-a742-163e9dfcf733",
   "metadata": {
    "tags": []
   },
   "outputs": [
    {
     "name": "stdout",
     "output_type": "stream",
     "text": [
      "Best-:*:-python-:*:-book\n"
     ]
    }
   ],
   "source": [
    "print(\"Best\", \"python\", \"book\", sep=\"-:*:-\")"
   ]
  },
  {
   "cell_type": "code",
   "execution_count": 16,
   "id": "bdb27505-79ff-4bbe-a988-38d984cfab18",
   "metadata": {
    "tags": []
   },
   "outputs": [
    {
     "name": "stdout",
     "output_type": "stream",
     "text": [
      "abcddfg\n"
     ]
    }
   ],
   "source": [
    "print(\"abcd\"+\"dfg\")"
   ]
  },
  {
   "cell_type": "code",
   "execution_count": 17,
   "id": "6effb8f9-4e9f-4557-b3c8-3c7e9a5dadd0",
   "metadata": {
    "tags": []
   },
   "outputs": [
    {
     "name": "stdout",
     "output_type": "stream",
     "text": [
      "Best python book: This book\n"
     ]
    }
   ],
   "source": [
    "print(\"Best\", \"python\", \"book\" + \":\", \"This book\")"
   ]
  },
  {
   "cell_type": "code",
   "execution_count": 18,
   "id": "b6d4ba90-42de-4b88-ba3a-c78caa566b9b",
   "metadata": {
    "tags": []
   },
   "outputs": [
    {
     "name": "stdout",
     "output_type": "stream",
     "text": [
      "10\n"
     ]
    }
   ],
   "source": [
    "x = 10\n",
    "print(x)"
   ]
  },
  {
   "cell_type": "code",
   "execution_count": 19,
   "id": "e8fd255d-a869-4f47-b938-da4eb7b0c543",
   "metadata": {
    "tags": []
   },
   "outputs": [
    {
     "name": "stdout",
     "output_type": "stream",
     "text": [
      "Name: James, ID Number: 789\n"
     ]
    }
   ],
   "source": [
    "name = \"James\"\n",
    "ID_num = 789\n",
    "print(\"Name:\", name + \",\", \"ID Number:\", ID_num)"
   ]
  },
  {
   "cell_type": "code",
   "execution_count": 20,
   "id": "3b7317b0-aa39-420b-af6d-9d61f5e53cc4",
   "metadata": {
    "tags": []
   },
   "outputs": [
    {
     "name": "stdout",
     "output_type": "stream",
     "text": [
      "James is my friend.\n",
      "He is Korean.\n"
     ]
    }
   ],
   "source": [
    "print(\"James is my friend.\\nHe is Korean.\")"
   ]
  },
  {
   "cell_type": "code",
   "execution_count": 21,
   "id": "8f760b42-f9af-4044-a103-4912a64f6f67",
   "metadata": {
    "tags": []
   },
   "outputs": [
    {
     "name": "stdout",
     "output_type": "stream",
     "text": [
      "James is mt friend.\n",
      "\n",
      "He is Korean.\n"
     ]
    }
   ],
   "source": [
    "print(\"James is mt friend.\\n\\nHe is Korean.\")"
   ]
  },
  {
   "cell_type": "code",
   "execution_count": 22,
   "id": "ee7f189a-5d0a-4ceb-acdd-1455ead53657",
   "metadata": {
    "tags": []
   },
   "outputs": [
    {
     "name": "stdout",
     "output_type": "stream",
     "text": [
      "Welcome to\n",
      "python!\n"
     ]
    }
   ],
   "source": [
    "print(\"Welcome to\")\n",
    "print(\"python!\")"
   ]
  },
  {
   "cell_type": "code",
   "execution_count": 23,
   "id": "b2918e88-83d5-44b9-960c-a622f0473cbb",
   "metadata": {
    "tags": []
   },
   "outputs": [
    {
     "name": "stdout",
     "output_type": "stream",
     "text": [
      "Welcome to \n",
      "python!\n"
     ]
    }
   ],
   "source": [
    "print(\"Welcome to \\npython!\")"
   ]
  },
  {
   "cell_type": "code",
   "execution_count": 24,
   "id": "a742a94e-fa6f-46aa-ada1-871875093e51",
   "metadata": {},
   "outputs": [
    {
     "name": "stdout",
     "output_type": "stream",
     "text": [
      "광재는 나의 친구입니다.\n"
     ]
    }
   ],
   "source": [
    "name = \"광재\"\n",
    "print(\"%s는 나의 친구입니다.\" % name)"
   ]
  },
  {
   "cell_type": "code",
   "execution_count": 25,
   "id": "615f06b6-9525-4759-9850-da6084d95487",
   "metadata": {
    "tags": []
   },
   "outputs": [
    {
     "name": "stdout",
     "output_type": "stream",
     "text": [
      "반지름: 3, 원주율: 3.141593\n"
     ]
    }
   ],
   "source": [
    "r = 3\n",
    "PI = 3.14159265358979\n",
    "print(\"반지름: %d, 원주율: %f\" % (r,PI))"
   ]
  },
  {
   "cell_type": "code",
   "execution_count": 26,
   "id": "09bb3392-5a82-49c3-9cf9-06d7b72d9c11",
   "metadata": {
    "tags": []
   },
   "outputs": [
    {
     "name": "stdout",
     "output_type": "stream",
     "text": [
      "Animal: cat\n",
      "Animal: cat, dog, fox\n"
     ]
    }
   ],
   "source": [
    "animal_0 = \"cat\"\n",
    "animal_1 = \"dog\"\n",
    "animal_2 = \"fox\"\n",
    "\n",
    "print(\"Animal: {0}\".format(animal_0))\n",
    "print(\"Animal: {0}, {1}, {2}\".format(animal_0, animal_1, animal_2))"
   ]
  },
  {
   "cell_type": "code",
   "execution_count": 27,
   "id": "42d63e74-56de-40c1-8db9-8af8d346e579",
   "metadata": {
    "tags": []
   },
   "outputs": [
    {
     "name": "stdout",
     "output_type": "stream",
     "text": [
      "Animal: dog, fox, cat\n"
     ]
    }
   ],
   "source": [
    "print(\"Animal: {1}, {2}, {0}\".format(animal_0, animal_1, animal_2))"
   ]
  },
  {
   "cell_type": "code",
   "execution_count": 28,
   "id": "a0fc5e11-f4ef-45c9-a737-67161dc4421c",
   "metadata": {
    "tags": []
   },
   "outputs": [
    {
     "name": "stdout",
     "output_type": "stream",
     "text": [
      "String: Tomas. Integer Number: 10. Floating Number: 0.12345678901234568\n"
     ]
    }
   ],
   "source": [
    "name = \"Tomas\"\n",
    "age = 10\n",
    "a = 0.1234567890123456789\n",
    "fmt_string = \"String: {0}. Integer Number: {1}. Floating Number: {2}\"\n",
    "print(fmt_string.format(name, age, a))"
   ]
  },
  {
   "cell_type": "code",
   "execution_count": 29,
   "id": "9bfb7632-40c7-4209-ab10-abda22b734c3",
   "metadata": {
    "tags": []
   },
   "outputs": [
    {
     "name": "stdout",
     "output_type": "stream",
     "text": [
      "0.12, 0.12346\n"
     ]
    }
   ],
   "source": [
    "a = 0.1234567890123456789\n",
    "print(\"{0:.2f}, {0:.5f}\".format(a))"
   ]
  },
  {
   "cell_type": "code",
   "execution_count": 30,
   "id": "60b5b1c5-3343-4eb9-bdbd-23f558017d91",
   "metadata": {
    "tags": []
   },
   "outputs": [
    {
     "name": "stdin",
     "output_type": "stream",
     "text": [
      "당신의 이름은? gPFls\n"
     ]
    },
    {
     "name": "stdout",
     "output_type": "stream",
     "text": [
      "당신은 gPFls이군요.\n"
     ]
    }
   ],
   "source": [
    "yourName = input(\"당신의 이름은?\")\n",
    "print(\"당신은 {}이군요.\".format(yourName))"
   ]
  },
  {
   "cell_type": "code",
   "execution_count": 31,
   "id": "8c32bb98-6819-48e5-a768-edf6ba4cfcdf",
   "metadata": {
    "tags": []
   },
   "outputs": [
    {
     "name": "stdin",
     "output_type": "stream",
     "text": [
      "숫자를 입력하세요 4\n"
     ]
    },
    {
     "name": "stdout",
     "output_type": "stream",
     "text": [
      "당신이 입력한 숫자는 4입니다.\n"
     ]
    }
   ],
   "source": [
    "num = input(\"숫자를 입력하세요\")\n",
    "print(\"당신이 입력한 숫자는 {}입니다.\".format(num))"
   ]
  },
  {
   "cell_type": "code",
   "execution_count": 33,
   "id": "5dd62147-5adf-433d-8cf1-ff601f53c6b4",
   "metadata": {
    "tags": []
   },
   "outputs": [
    {
     "name": "stdin",
     "output_type": "stream",
     "text": [
      "정사각형 한 변의 길이는? 4\n"
     ]
    },
    {
     "name": "stdout",
     "output_type": "stream",
     "text": [
      "정사각형의 넓이: 16\n"
     ]
    }
   ],
   "source": [
    "a = input(\"정사각형 한 변의 길이는?\")\n",
    "area = int(a) ** 2\n",
    "print(\"정사각형의 넓이: {}\".format(area))"
   ]
  },
  {
   "cell_type": "code",
   "execution_count": 34,
   "id": "ea0d75aa-3077-4435-9a94-7c6ef4e85288",
   "metadata": {
    "tags": []
   },
   "outputs": [
    {
     "name": "stdin",
     "output_type": "stream",
     "text": [
      "정사각형 한 변의 길이는? 4\n"
     ]
    },
    {
     "name": "stdout",
     "output_type": "stream",
     "text": [
      "정사각형의 넓이: 16.0\n"
     ]
    }
   ],
   "source": [
    "b = input(\"정사각형 한 변의 길이는?\")\n",
    "area = float(b) ** 2\n",
    "print(\"정사각형의 넓이: {}\".format(area))"
   ]
  },
  {
   "cell_type": "markdown",
   "id": "69267851-0a2f-431d-8f02-57c944966615",
   "metadata": {},
   "source": [
    "# 함수"
   ]
  },
  {
   "cell_type": "code",
   "execution_count": 35,
   "id": "875f28e8-586c-4e7e-b256-d82c82ddf675",
   "metadata": {
    "tags": []
   },
   "outputs": [
    {
     "name": "stdout",
     "output_type": "stream",
     "text": [
      "My first function!\n",
      "This is a function\n"
     ]
    }
   ],
   "source": [
    "def my_func():\n",
    "    print(\"My first function!\")\n",
    "    print(\"This is a function\")\n",
    "\n",
    "my_func()"
   ]
  },
  {
   "cell_type": "code",
   "execution_count": 36,
   "id": "9c18fdb7-1708-4312-b4b2-fb020adb4821",
   "metadata": {
    "tags": []
   },
   "outputs": [
    {
     "name": "stdout",
     "output_type": "stream",
     "text": [
      "철수는 나의 친구입니다.\n",
      "영미는 나의 친구입니다.\n"
     ]
    }
   ],
   "source": [
    "def my_friend(friendName):\n",
    "    print(\"{}는 나의 친구입니다.\".format(friendName))\n",
    "    \n",
    "my_friend(\"철수\")\n",
    "my_friend(\"영미\")"
   ]
  },
  {
   "cell_type": "code",
   "execution_count": 37,
   "id": "2e0812cf-0bd4-4f9d-bdf3-c12cea0d0eea",
   "metadata": {
    "tags": []
   },
   "outputs": [
    {
     "name": "stdout",
     "output_type": "stream",
     "text": [
      "-----------------\n",
      "-학생이름: 현아\n",
      "-학급번호: 01\n",
      "-전화번호: 01-234-567\n"
     ]
    }
   ],
   "source": [
    "def my_student_info(name, school_ID, phonenumber):\n",
    "    print(\"-----------------\")\n",
    "    print(\"-학생이름:\", name)\n",
    "    print(\"-학급번호:\", school_ID)\n",
    "    print(\"-전화번호:\", phonenumber)\n",
    "    \n",
    "my_student_info(\"현아\", \"01\", \"01-234-567\")"
   ]
  },
  {
   "cell_type": "code",
   "execution_count": 38,
   "id": "2e02d4df-5bff-40d5-a4af-1051733ff49c",
   "metadata": {
    "tags": []
   },
   "outputs": [
    {
     "data": {
      "text/plain": [
       "12"
      ]
     },
     "execution_count": 38,
     "metadata": {},
     "output_type": "execute_result"
    }
   ],
   "source": [
    "def my_cal(x,y):\n",
    "    z = x*y\n",
    "    return z\n",
    "\n",
    "my_cal(3,4)"
   ]
  },
  {
   "cell_type": "code",
   "execution_count": 39,
   "id": "302faaa7-98a7-4b95-96df-18f980afb166",
   "metadata": {
    "tags": []
   },
   "outputs": [
    {
     "name": "stdout",
     "output_type": "stream",
     "text": [
      "[func1] 지역 변수 a = 1\n",
      "[func2] 지역 변수 a = 2\n",
      "[func3] 전역 변수 a = 5\n",
      "[func4] 전역 변수 a = 4\n"
     ]
    }
   ],
   "source": [
    "a = 5\n",
    "\n",
    "def func1():\n",
    "    a = 1\n",
    "    print(\"[func1] 지역 변수 a =\", a)\n",
    "    \n",
    "def func2():\n",
    "    a = 2\n",
    "    print(\"[func2] 지역 변수 a =\", a)\n",
    "    \n",
    "def func3():\n",
    "    print(\"[func3] 전역 변수 a =\", a)\n",
    "    \n",
    "def func4():\n",
    "    global a\n",
    "    a = 4\n",
    "    print(\"[func4] 전역 변수 a =\", a)\n",
    "    \n",
    "func1()\n",
    "func2()\n",
    "func3()\n",
    "func4()"
   ]
  },
  {
   "cell_type": "code",
   "execution_count": 40,
   "id": "77cde1a7-181f-4cff-a2a5-b9270f1764c0",
   "metadata": {
    "tags": []
   },
   "outputs": [
    {
     "data": {
      "text/plain": [
       "9"
      ]
     },
     "execution_count": 40,
     "metadata": {},
     "output_type": "execute_result"
    }
   ],
   "source": [
    "(lambda x : x**2) (3)"
   ]
  },
  {
   "cell_type": "code",
   "execution_count": 41,
   "id": "18c4f797-6b1e-4854-affa-6264da76d32f",
   "metadata": {
    "tags": []
   },
   "outputs": [
    {
     "data": {
      "text/plain": [
       "4"
      ]
     },
     "execution_count": 41,
     "metadata": {},
     "output_type": "execute_result"
    }
   ],
   "source": [
    "mySquare = lambda x : x**2\n",
    "mySquare(2)"
   ]
  },
  {
   "cell_type": "markdown",
   "id": "59a98155-ff4d-44f8-80fa-c8a99602bac8",
   "metadata": {},
   "source": [
    "# 객체와 클래스"
   ]
  },
  {
   "cell_type": "code",
   "execution_count": 42,
   "id": "1c985446-d593-41e7-a63c-5ddafb6c2ff3",
   "metadata": {
    "tags": []
   },
   "outputs": [],
   "source": [
    "class Bicycle():\n",
    "    \n",
    "    def move(self, speed):\n",
    "        print(\"자전거: 시속 {0}킬로미터 전진\".format(speed))\n",
    "    \n",
    "    def turn(self, direction):\n",
    "        print(\"자전거: {0}회전\".format(direction))\n",
    "              \n",
    "    def stop(self):\n",
    "        print(\"자전거({0}, {1}): 정지\".format(self.wheel_size, self.color))"
   ]
  },
  {
   "cell_type": "code",
   "execution_count": 43,
   "id": "f3206c11-d175-490a-8d76-ce53eca45bd1",
   "metadata": {
    "tags": []
   },
   "outputs": [],
   "source": [
    "my_bicycle = Bicycle()\n",
    "\n",
    "my_bicycle.wheel_size = 26\n",
    "my_bicycle.color = 'black'"
   ]
  },
  {
   "cell_type": "code",
   "execution_count": 44,
   "id": "bd2d4480-99d1-4800-9631-f5bb4797478d",
   "metadata": {
    "tags": []
   },
   "outputs": [
    {
     "name": "stdout",
     "output_type": "stream",
     "text": [
      "자전거: 시속 30킬로미터 전진\n",
      "자전거: 좌회전\n",
      "자전거(26, black): 정지\n"
     ]
    }
   ],
   "source": [
    "my_bicycle.move(30)\n",
    "my_bicycle.turn('좌')\n",
    "my_bicycle.stop()"
   ]
  },
  {
   "cell_type": "code",
   "execution_count": 45,
   "id": "3b9f8311-e540-487a-ac23-31bdd6f117f4",
   "metadata": {
    "tags": []
   },
   "outputs": [],
   "source": [
    "your_bicycle = Bicycle()\n",
    "\n",
    "your_bicycle.wheel_size = 30\n",
    "your_bicycle.color = 'red'"
   ]
  },
  {
   "cell_type": "code",
   "execution_count": 46,
   "id": "1795125c-d2bf-4d2a-abe2-fc896980fafb",
   "metadata": {
    "tags": []
   },
   "outputs": [
    {
     "name": "stdout",
     "output_type": "stream",
     "text": [
      "자전거: 시속 70킬로미터 전진\n",
      "자전거: 우회전\n",
      "자전거(30, red): 정지\n"
     ]
    }
   ],
   "source": [
    "your_bicycle.move(70)\n",
    "your_bicycle.turn('우')\n",
    "your_bicycle.stop()"
   ]
  },
  {
   "cell_type": "markdown",
   "id": "66dae6e4-4ad1-4d07-8630-b865e8367089",
   "metadata": {},
   "source": [
    "# 문자열과 텍스트 파일 데이터 다루기"
   ]
  },
  {
   "cell_type": "code",
   "execution_count": 47,
   "id": "e514e8cb-c80c-4441-9c80-ec5c5c4e005e",
   "metadata": {
    "tags": []
   },
   "outputs": [
    {
     "data": {
      "text/plain": [
       "['에스프레소', ' 아메리카노', ' 카페라테', ' 카푸치노']"
      ]
     },
     "execution_count": 47,
     "metadata": {},
     "output_type": "execute_result"
    }
   ],
   "source": [
    "coffee_menu_str = \"에스프레소, 아메리카노, 카페라테, 카푸치노\"\n",
    "coffee_menu_str.split(',')"
   ]
  },
  {
   "cell_type": "code",
   "execution_count": 48,
   "id": "c480ee1b-8d0b-4fb9-9027-0be3a673a622",
   "metadata": {
    "tags": []
   },
   "outputs": [
    {
     "data": {
      "text/plain": [
       "['에스프레소', '아메리카노', '카페라테 카푸치노']"
      ]
     },
     "execution_count": 48,
     "metadata": {},
     "output_type": "execute_result"
    }
   ],
   "source": [
    "\"에스프레소 아메리카노 카페라테 카푸치노\".split(maxsplit=2)"
   ]
  },
  {
   "cell_type": "code",
   "execution_count": 49,
   "id": "0aca1fcf-f7f3-44bf-9830-7e323a788a2a",
   "metadata": {
    "tags": []
   },
   "outputs": [
    {
     "name": "stdout",
     "output_type": "stream",
     "text": [
      "['+82', '01-2345-6789']\n",
      "국내전화번호: 01-2345-6789\n"
     ]
    }
   ],
   "source": [
    "phone_number = \"+82-01-2345-6789\"\n",
    "split_num = phone_number.split(\"-\", 1)\n",
    "\n",
    "print(split_num)\n",
    "print(\"국내전화번호: {0}\".format(split_num[1]))"
   ]
  },
  {
   "cell_type": "code",
   "execution_count": 50,
   "id": "ddb2be81-74c1-424c-9c50-b011be6de142",
   "metadata": {},
   "outputs": [
    {
     "name": "stdout",
     "output_type": "stream",
     "text": [
      "찾는 문자열의 위치: 0\n",
      "찾는 문자열의 위치: 7\n",
      "찾는 문자열의 위치: 5\n",
      "찾는 문자열의 위지: -1\n"
     ]
    }
   ],
   "source": [
    "str_f = \"Python code.\"\n",
    "\n",
    "print(\"찾는 문자열의 위치:\", str_f.find(\"Python\"))\n",
    "print(\"찾는 문자열의 위치:\", str_f.find(\"code\"))\n",
    "print(\"찾는 문자열의 위치:\", str_f.find(\"n\"))\n",
    "print(\"찾는 문자열의 위지:\", str_f.find(\"easy\"))"
   ]
  },
  {
   "cell_type": "code",
   "execution_count": 51,
   "id": "2df11474-148e-4f4a-8f6a-3302dc9fe42b",
   "metadata": {},
   "outputs": [
    {
     "name": "stdout",
     "output_type": "stream",
     "text": [
      "Python의 개수는?: 3\n",
      "powerful의 개수는?: 1\n",
      "IPython의 개수는? 0\n"
     ]
    }
   ],
   "source": [
    "str_c = \"Python is powerful. Python is easy to learn. Python is open.\"\n",
    "\n",
    "print(\"Python의 개수는?:\", str_c.count(\"Python\"))\n",
    "print(\"powerful의 개수는?:\", str_c.count(\"powerful\"))\n",
    "print(\"IPython의 개수는?\", str_c.count(\"IPython\"))"
   ]
  },
  {
   "cell_type": "code",
   "execution_count": 52,
   "id": "b4e9c636-6b82-496d-bdd3-0be87637a4ae",
   "metadata": {},
   "outputs": [
    {
     "name": "stdout",
     "output_type": "stream",
     "text": [
      "Python으로 시작?: True\n",
      "is로 시작?: False\n",
      ".로 끝?: True\n",
      "learn으로 끝?: False\n"
     ]
    }
   ],
   "source": [
    "str_se = \"Python is powerful. Python is easy to learn.\"\n",
    "print(\"Python으로 시작?:\", str_se.startswith(\"Python\"))\n",
    "print(\"is로 시작?:\", str_se.startswith(\"is\"))\n",
    "print(\".로 끝?:\", str_se.endswith(\".\"))\n",
    "print(\"learn으로 끝?:\", str_se.endswith(\"learn\"))"
   ]
  },
  {
   "cell_type": "code",
   "execution_count": 53,
   "id": "844c50d2-b683-40c4-be67-9046894c1fe7",
   "metadata": {},
   "outputs": [
    {
     "name": "stdout",
     "output_type": "stream",
     "text": [
      "IPython is fast. IPython is friendly. IPython is open.\n",
      "IPython is fast. IPython is friendly. Python is open.\n"
     ]
    }
   ],
   "source": [
    "str_a = 'Python is fast. Python is friendly. Python is open.'\n",
    "print(str_a.replace('Python', 'IPython'))\n",
    "print(str_a.replace('Python', 'IPython', 2))"
   ]
  },
  {
   "cell_type": "markdown",
   "id": "4d85ff98-2a39-466f-8bb6-ede89f39182a",
   "metadata": {},
   "source": [
    "# 데이터 분석을 위한 패키지"
   ]
  },
  {
   "cell_type": "code",
   "execution_count": 54,
   "id": "916522e7-6082-49fa-9a42-417648083899",
   "metadata": {},
   "outputs": [],
   "source": [
    "import numpy as np"
   ]
  },
  {
   "cell_type": "code",
   "execution_count": 55,
   "id": "753dbf95-a132-4eea-9506-c22a4cad4008",
   "metadata": {},
   "outputs": [
    {
     "data": {
      "text/plain": [
       "array([0, 1, 2, 3, 4, 5])"
      ]
     },
     "execution_count": 55,
     "metadata": {},
     "output_type": "execute_result"
    }
   ],
   "source": [
    "data1 = [0, 1, 2, 3, 4, 5]\n",
    "a1 = np.array(data1)\n",
    "a1"
   ]
  },
  {
   "cell_type": "code",
   "execution_count": 56,
   "id": "79a56afc-2242-4be6-bfba-72dd00b8550e",
   "metadata": {},
   "outputs": [
    {
     "data": {
      "text/plain": [
       "array([ 0.1,  5. ,  4. , 12. ,  0.5])"
      ]
     },
     "execution_count": 56,
     "metadata": {},
     "output_type": "execute_result"
    }
   ],
   "source": [
    "data2 = [0.1, 5, 4, 12, 0.5]\n",
    "a2 = np.array(data2)\n",
    "a2"
   ]
  },
  {
   "cell_type": "code",
   "execution_count": 57,
   "id": "e4c2b9c2-c81b-4761-9792-02ee2f9293e6",
   "metadata": {},
   "outputs": [
    {
     "data": {
      "text/plain": [
       "dtype('int32')"
      ]
     },
     "execution_count": 57,
     "metadata": {},
     "output_type": "execute_result"
    }
   ],
   "source": [
    "a1.dtype"
   ]
  },
  {
   "cell_type": "code",
   "execution_count": 58,
   "id": "a82c4743-31e0-4b1b-949b-d63a7b1de773",
   "metadata": {},
   "outputs": [
    {
     "data": {
      "text/plain": [
       "dtype('float64')"
      ]
     },
     "execution_count": 58,
     "metadata": {},
     "output_type": "execute_result"
    }
   ],
   "source": [
    "a2.dtype"
   ]
  },
  {
   "cell_type": "code",
   "execution_count": 59,
   "id": "56962edd-b056-4690-b81d-fc65362f6d06",
   "metadata": {},
   "outputs": [
    {
     "data": {
      "text/plain": [
       "array([0.5 , 2.  , 0.01, 8.  ])"
      ]
     },
     "execution_count": 59,
     "metadata": {},
     "output_type": "execute_result"
    }
   ],
   "source": [
    "np.array([0.5,2,0.01,8])"
   ]
  },
  {
   "cell_type": "code",
   "execution_count": 60,
   "id": "403c41fb-fa40-4e76-9f58-fc101c33ef20",
   "metadata": {},
   "outputs": [
    {
     "data": {
      "text/plain": [
       "array([[1, 2, 3],\n",
       "       [4, 5, 6],\n",
       "       [7, 8, 9]])"
      ]
     },
     "execution_count": 60,
     "metadata": {},
     "output_type": "execute_result"
    }
   ],
   "source": [
    "np.array([[1,2,3], [4,5,6], [7,8,9]])"
   ]
  },
  {
   "cell_type": "code",
   "execution_count": 61,
   "id": "60acc2a4-92c5-439e-b769-fb5c8b09a47d",
   "metadata": {},
   "outputs": [
    {
     "data": {
      "text/plain": [
       "array([[ 0,  1,  2],\n",
       "       [ 3,  4,  5],\n",
       "       [ 6,  7,  8],\n",
       "       [ 9, 10, 11]])"
      ]
     },
     "execution_count": 61,
     "metadata": {},
     "output_type": "execute_result"
    }
   ],
   "source": [
    "np.arange(12).reshape(4,3)"
   ]
  },
  {
   "cell_type": "code",
   "execution_count": 62,
   "id": "d1dbdae8-ca02-4abd-b5c4-cc48d77f042f",
   "metadata": {},
   "outputs": [
    {
     "data": {
      "text/plain": [
       "(4, 3)"
      ]
     },
     "execution_count": 62,
     "metadata": {},
     "output_type": "execute_result"
    }
   ],
   "source": [
    "b1 = np.arange(12).reshape(4,3)\n",
    "b1.shape"
   ]
  },
  {
   "cell_type": "code",
   "execution_count": 63,
   "id": "75536d4d-04d1-497d-9a42-c971ae202f3c",
   "metadata": {},
   "outputs": [
    {
     "data": {
      "text/plain": [
       "(5,)"
      ]
     },
     "execution_count": 63,
     "metadata": {},
     "output_type": "execute_result"
    }
   ],
   "source": [
    "b2 = np.arange(5)\n",
    "b2.shape"
   ]
  },
  {
   "cell_type": "code",
   "execution_count": 64,
   "id": "18794f80-ece9-4974-ba5e-3dbed60e69c3",
   "metadata": {},
   "outputs": [
    {
     "data": {
      "text/plain": [
       "array([ 1.,  2.,  3.,  4.,  5.,  6.,  7.,  8.,  9., 10.])"
      ]
     },
     "execution_count": 64,
     "metadata": {},
     "output_type": "execute_result"
    }
   ],
   "source": [
    "np.linspace(1,10,10)"
   ]
  },
  {
   "cell_type": "code",
   "execution_count": 65,
   "id": "0fc5ce24-0680-40df-b709-dbeb22e23ee7",
   "metadata": {},
   "outputs": [
    {
     "data": {
      "text/plain": [
       "array([[1., 0., 0.],\n",
       "       [0., 1., 0.],\n",
       "       [0., 0., 1.]])"
      ]
     },
     "execution_count": 65,
     "metadata": {},
     "output_type": "execute_result"
    }
   ],
   "source": [
    "np.eye(3)"
   ]
  },
  {
   "cell_type": "code",
   "execution_count": 66,
   "id": "6343e07a-5a1d-4b5f-902b-6a8cdbe81642",
   "metadata": {},
   "outputs": [
    {
     "data": {
      "text/plain": [
       "array([[0.61968457, 0.17374696, 0.91965995],\n",
       "       [0.66805365, 0.30067669, 0.97675529]])"
      ]
     },
     "execution_count": 66,
     "metadata": {},
     "output_type": "execute_result"
    }
   ],
   "source": [
    "np.random.rand(2,3)"
   ]
  },
  {
   "cell_type": "code",
   "execution_count": 67,
   "id": "c4b38874-cc20-42b8-ba7a-c71ac508a512",
   "metadata": {},
   "outputs": [
    {
     "data": {
      "text/plain": [
       "0.5594409743382951"
      ]
     },
     "execution_count": 67,
     "metadata": {},
     "output_type": "execute_result"
    }
   ],
   "source": [
    "np.random.rand()"
   ]
  },
  {
   "cell_type": "code",
   "execution_count": 68,
   "id": "ef1d77f1-9fb2-48c8-9f27-48e4d75cd1ee",
   "metadata": {},
   "outputs": [
    {
     "data": {
      "text/plain": [
       "array([[[0.18020776, 0.8914343 , 0.3927328 , 0.47349157],\n",
       "        [0.00318943, 0.57564582, 0.75372754, 0.4858743 ],\n",
       "        [0.85756653, 0.1847582 , 0.15169819, 0.6864834 ]],\n",
       "\n",
       "       [[0.42803862, 0.06408262, 0.46984677, 0.74260733],\n",
       "        [0.33480275, 0.67318701, 0.98777277, 0.17534727],\n",
       "        [0.57280219, 0.85141293, 0.29222022, 0.67240094]]])"
      ]
     },
     "execution_count": 68,
     "metadata": {},
     "output_type": "execute_result"
    }
   ],
   "source": [
    "np.random.rand(2,3,4)"
   ]
  },
  {
   "cell_type": "code",
   "execution_count": 69,
   "id": "fb4a6067-b76d-4ee8-83e1-cb7af9d7cc73",
   "metadata": {},
   "outputs": [
    {
     "data": {
      "text/plain": [
       "array([[3, 7, 1, 2],\n",
       "       [1, 2, 3, 7],\n",
       "       [9, 4, 1, 4]])"
      ]
     },
     "execution_count": 69,
     "metadata": {},
     "output_type": "execute_result"
    }
   ],
   "source": [
    "np.random.randint(10, size=(3,4))"
   ]
  },
  {
   "cell_type": "code",
   "execution_count": 70,
   "id": "bf6c7f84-a0ef-4cd9-a9d4-fc2654cec9c7",
   "metadata": {},
   "outputs": [
    {
     "data": {
      "text/plain": [
       "26"
      ]
     },
     "execution_count": 70,
     "metadata": {},
     "output_type": "execute_result"
    }
   ],
   "source": [
    "np.random.randint(1,30)"
   ]
  },
  {
   "cell_type": "code",
   "execution_count": 71,
   "id": "d7435fb5-a486-4b13-9d89-3971209acd3e",
   "metadata": {},
   "outputs": [],
   "source": [
    "arr1 = np.array([1,2,3,4])\n",
    "arr2 = np.array([10,20,30,40])"
   ]
  },
  {
   "cell_type": "code",
   "execution_count": 72,
   "id": "e5204da1-e950-4bc1-aef9-f3147368eeb7",
   "metadata": {},
   "outputs": [
    {
     "data": {
      "text/plain": [
       "array([11, 22, 33, 44])"
      ]
     },
     "execution_count": 72,
     "metadata": {},
     "output_type": "execute_result"
    }
   ],
   "source": [
    "arr1 + arr2"
   ]
  },
  {
   "cell_type": "code",
   "execution_count": 73,
   "id": "d73bd6b4-b884-4439-bd4c-ec845850e3a4",
   "metadata": {},
   "outputs": [
    {
     "data": {
      "text/plain": [
       "array([ -9, -18, -27, -36])"
      ]
     },
     "execution_count": 73,
     "metadata": {},
     "output_type": "execute_result"
    }
   ],
   "source": [
    "arr1 - arr2"
   ]
  },
  {
   "cell_type": "code",
   "execution_count": 74,
   "id": "f7b36ad2-e0ea-4b9b-8ac7-b5d2fa9a586b",
   "metadata": {},
   "outputs": [
    {
     "data": {
      "text/plain": [
       "array([ 10,  40,  90, 160])"
      ]
     },
     "execution_count": 74,
     "metadata": {},
     "output_type": "execute_result"
    }
   ],
   "source": [
    "arr1 * arr2"
   ]
  },
  {
   "cell_type": "code",
   "execution_count": 75,
   "id": "d6386a2d-f93d-4398-b519-01cad2599fbc",
   "metadata": {},
   "outputs": [
    {
     "data": {
      "text/plain": [
       "array([False, False, False, False])"
      ]
     },
     "execution_count": 75,
     "metadata": {},
     "output_type": "execute_result"
    }
   ],
   "source": [
    "arr1 > arr2"
   ]
  },
  {
   "cell_type": "code",
   "execution_count": 76,
   "id": "4849fb65-366f-432b-92bd-8e10d90df0db",
   "metadata": {},
   "outputs": [
    {
     "data": {
      "text/plain": [
       "array([[0, 1],\n",
       "       [2, 3]])"
      ]
     },
     "execution_count": 76,
     "metadata": {},
     "output_type": "execute_result"
    }
   ],
   "source": [
    "A = np.array([0,1,2,3]).reshape(2,2)\n",
    "A"
   ]
  },
  {
   "cell_type": "code",
   "execution_count": 77,
   "id": "0476db8c-9ee3-459b-bf65-fcab31a99e3a",
   "metadata": {},
   "outputs": [
    {
     "data": {
      "text/plain": [
       "array([[3, 2],\n",
       "       [0, 1]])"
      ]
     },
     "execution_count": 77,
     "metadata": {},
     "output_type": "execute_result"
    }
   ],
   "source": [
    "B = np.array([3,2,0,1]).reshape(2,2)\n",
    "B"
   ]
  },
  {
   "cell_type": "code",
   "execution_count": 78,
   "id": "9828f2f3-f586-40f4-b983-d30102766b30",
   "metadata": {},
   "outputs": [
    {
     "data": {
      "text/plain": [
       "array([[0, 1],\n",
       "       [6, 7]])"
      ]
     },
     "execution_count": 78,
     "metadata": {},
     "output_type": "execute_result"
    }
   ],
   "source": [
    "A.dot(B)"
   ]
  },
  {
   "cell_type": "code",
   "execution_count": 79,
   "id": "0935c8cc-c4e9-488e-a719-783ae98ecc47",
   "metadata": {},
   "outputs": [
    {
     "data": {
      "text/plain": [
       "array([[0, 2],\n",
       "       [1, 3]])"
      ]
     },
     "execution_count": 79,
     "metadata": {},
     "output_type": "execute_result"
    }
   ],
   "source": [
    "np.transpose(A)"
   ]
  },
  {
   "cell_type": "code",
   "execution_count": 80,
   "id": "ed908500-a8e3-4eb7-97e1-2209cc581f41",
   "metadata": {},
   "outputs": [
    {
     "data": {
      "text/plain": [
       "array([[-1.5,  0.5],\n",
       "       [ 1. ,  0. ]])"
      ]
     },
     "execution_count": 80,
     "metadata": {},
     "output_type": "execute_result"
    }
   ],
   "source": [
    "np.linalg.inv(A)"
   ]
  },
  {
   "cell_type": "code",
   "execution_count": 81,
   "id": "62f0f05a-6e42-4397-a399-728ef3533ef9",
   "metadata": {},
   "outputs": [
    {
     "data": {
      "text/plain": [
       "array([[10, 20, 30],\n",
       "       [40, 50, 60],\n",
       "       [70, 80, 90]])"
      ]
     },
     "execution_count": 81,
     "metadata": {},
     "output_type": "execute_result"
    }
   ],
   "source": [
    "b2 = np.arange(10,100,10).reshape(3,3)\n",
    "b2"
   ]
  },
  {
   "cell_type": "code",
   "execution_count": 82,
   "id": "dae2fc22-3431-4828-8b9d-9fea9e720e5a",
   "metadata": {},
   "outputs": [
    {
     "name": "stderr",
     "output_type": "stream",
     "text": [
      "C:\\Users\\imhye\\Anaconda3\\Lib\\site-packages\\pandas\\core\\arrays\\masked.py:60: UserWarning: Pandas requires version '1.3.6' or newer of 'bottleneck' (version '1.3.5' currently installed).\n",
      "  from pandas.core import (\n"
     ]
    }
   ],
   "source": [
    "import pandas as pd"
   ]
  },
  {
   "cell_type": "code",
   "execution_count": 83,
   "id": "f5dc70b6-6ad9-4e95-a8f6-7884904761e1",
   "metadata": {},
   "outputs": [
    {
     "data": {
      "text/plain": [
       "0    10\n",
       "1    20\n",
       "2    30\n",
       "3    40\n",
       "4    50\n",
       "dtype: int64"
      ]
     },
     "execution_count": 83,
     "metadata": {},
     "output_type": "execute_result"
    }
   ],
   "source": [
    "s1 = pd.Series([10,20,30,40,50])\n",
    "s1"
   ]
  },
  {
   "cell_type": "code",
   "execution_count": 84,
   "id": "bdb2241c-cd18-472f-829b-881b8bd4b562",
   "metadata": {},
   "outputs": [
    {
     "name": "stdout",
     "output_type": "stream",
     "text": [
      "RangeIndex(start=0, stop=5, step=1)\n"
     ]
    }
   ],
   "source": [
    "s1.index\n",
    "print(s1.index)"
   ]
  },
  {
   "cell_type": "code",
   "execution_count": 85,
   "id": "5f272b84-e15d-4827-9514-61fea6564578",
   "metadata": {},
   "outputs": [
    {
     "data": {
      "text/plain": [
       "array([10, 20, 30, 40, 50], dtype=int64)"
      ]
     },
     "execution_count": 85,
     "metadata": {},
     "output_type": "execute_result"
    }
   ],
   "source": [
    "s1.values"
   ]
  },
  {
   "cell_type": "code",
   "execution_count": 86,
   "id": "83080901-033b-499c-8a45-2dd1cbad556f",
   "metadata": {},
   "outputs": [
    {
     "data": {
      "text/plain": [
       "0    a\n",
       "1    b\n",
       "2    c\n",
       "3    1\n",
       "4    2\n",
       "5    3\n",
       "dtype: object"
      ]
     },
     "execution_count": 86,
     "metadata": {},
     "output_type": "execute_result"
    }
   ],
   "source": [
    "s2 = pd.Series(['a','b','c',1,2,3])\n",
    "s2"
   ]
  },
  {
   "cell_type": "code",
   "execution_count": 87,
   "id": "854b3680-15d5-44e4-93a2-1e3f6906d480",
   "metadata": {},
   "outputs": [
    {
     "data": {
      "text/plain": [
       "0     NaN\n",
       "1    10.0\n",
       "2    30.0\n",
       "dtype: float64"
      ]
     },
     "execution_count": 87,
     "metadata": {},
     "output_type": "execute_result"
    }
   ],
   "source": [
    "import numpy as np\n",
    "\n",
    "s3 = pd.Series([np.nan,10,30])\n",
    "s3"
   ]
  },
  {
   "cell_type": "code",
   "execution_count": 88,
   "id": "88581aca-2f12-4562-85ad-2a056559c8d9",
   "metadata": {},
   "outputs": [
    {
     "data": {
      "text/plain": [
       "2018-10-07    200.0\n",
       "2018-10-08    195.0\n",
       "2018-10-09      NaN\n",
       "2018-10=10    205.0\n",
       "dtype: float64"
      ]
     },
     "execution_count": 88,
     "metadata": {},
     "output_type": "execute_result"
    }
   ],
   "source": [
    "index_date = ['2018-10-07', '2018-10-08', '2018-10-09', '2018-10=10']\n",
    "s4 = pd.Series([200,195,np.nan,205], index = index_date)\n",
    "s4"
   ]
  },
  {
   "cell_type": "code",
   "execution_count": 89,
   "id": "0a19fb98-b177-481f-8f75-ce8bd8f18e61",
   "metadata": {},
   "outputs": [
    {
     "data": {
      "text/plain": [
       "국어    100\n",
       "영어     95\n",
       "수학     90\n",
       "dtype: int64"
      ]
     },
     "execution_count": 89,
     "metadata": {},
     "output_type": "execute_result"
    }
   ],
   "source": [
    "s5 = pd.Series({'국어': 100, '영어': 95, '수학': 90})\n",
    "s5"
   ]
  },
  {
   "cell_type": "code",
   "execution_count": 90,
   "id": "aa7051cb-cf6a-48ad-8309-e22d0153d250",
   "metadata": {},
   "outputs": [
    {
     "data": {
      "text/plain": [
       "DatetimeIndex(['2019-01-01', '2019-01-02', '2019-01-03', '2019-01-04',\n",
       "               '2019-01-05', '2019-01-06', '2019-01-07'],\n",
       "              dtype='datetime64[ns]', freq='D')"
      ]
     },
     "execution_count": 90,
     "metadata": {},
     "output_type": "execute_result"
    }
   ],
   "source": [
    "pd.date_range(start='2019-01-01', end='2019-01-07')"
   ]
  },
  {
   "cell_type": "code",
   "execution_count": 91,
   "id": "2296a741-5300-4d44-ab57-876fb46c0b4e",
   "metadata": {},
   "outputs": [
    {
     "data": {
      "text/plain": [
       "DatetimeIndex(['2019-01-01', '2019-01-02', '2019-01-03', '2019-01-04',\n",
       "               '2019-01-05', '2019-01-06', '2019-01-07'],\n",
       "              dtype='datetime64[ns]', freq='D')"
      ]
     },
     "execution_count": 91,
     "metadata": {},
     "output_type": "execute_result"
    }
   ],
   "source": [
    "pd.date_range(start='2019-01-01', periods = 7)"
   ]
  },
  {
   "cell_type": "code",
   "execution_count": 92,
   "id": "de3837fc-b742-46b2-ad8e-0147c77bc879",
   "metadata": {},
   "outputs": [
    {
     "data": {
      "text/html": [
       "<div>\n",
       "<style scoped>\n",
       "    .dataframe tbody tr th:only-of-type {\n",
       "        vertical-align: middle;\n",
       "    }\n",
       "\n",
       "    .dataframe tbody tr th {\n",
       "        vertical-align: top;\n",
       "    }\n",
       "\n",
       "    .dataframe thead th {\n",
       "        text-align: right;\n",
       "    }\n",
       "</style>\n",
       "<table border=\"1\" class=\"dataframe\">\n",
       "  <thead>\n",
       "    <tr style=\"text-align: right;\">\n",
       "      <th></th>\n",
       "      <th>0</th>\n",
       "      <th>1</th>\n",
       "      <th>2</th>\n",
       "    </tr>\n",
       "  </thead>\n",
       "  <tbody>\n",
       "    <tr>\n",
       "      <th>0</th>\n",
       "      <td>1</td>\n",
       "      <td>2</td>\n",
       "      <td>3</td>\n",
       "    </tr>\n",
       "    <tr>\n",
       "      <th>1</th>\n",
       "      <td>4</td>\n",
       "      <td>5</td>\n",
       "      <td>6</td>\n",
       "    </tr>\n",
       "    <tr>\n",
       "      <th>2</th>\n",
       "      <td>7</td>\n",
       "      <td>8</td>\n",
       "      <td>9</td>\n",
       "    </tr>\n",
       "  </tbody>\n",
       "</table>\n",
       "</div>"
      ],
      "text/plain": [
       "   0  1  2\n",
       "0  1  2  3\n",
       "1  4  5  6\n",
       "2  7  8  9"
      ]
     },
     "execution_count": 92,
     "metadata": {},
     "output_type": "execute_result"
    }
   ],
   "source": [
    "pd.DataFrame([[1,2,3,], [4,5,6], [7,8,9]])"
   ]
  },
  {
   "cell_type": "code",
   "execution_count": 93,
   "id": "84f2eb3e-d937-4564-9621-d8b6dbffeb5a",
   "metadata": {},
   "outputs": [
    {
     "data": {
      "text/html": [
       "<div>\n",
       "<style scoped>\n",
       "    .dataframe tbody tr th:only-of-type {\n",
       "        vertical-align: middle;\n",
       "    }\n",
       "\n",
       "    .dataframe tbody tr th {\n",
       "        vertical-align: top;\n",
       "    }\n",
       "\n",
       "    .dataframe thead th {\n",
       "        text-align: right;\n",
       "    }\n",
       "</style>\n",
       "<table border=\"1\" class=\"dataframe\">\n",
       "  <thead>\n",
       "    <tr style=\"text-align: right;\">\n",
       "      <th></th>\n",
       "      <th>0</th>\n",
       "      <th>1</th>\n",
       "      <th>2</th>\n",
       "    </tr>\n",
       "  </thead>\n",
       "  <tbody>\n",
       "    <tr>\n",
       "      <th>0</th>\n",
       "      <td>10</td>\n",
       "      <td>20</td>\n",
       "      <td>30</td>\n",
       "    </tr>\n",
       "    <tr>\n",
       "      <th>1</th>\n",
       "      <td>40</td>\n",
       "      <td>50</td>\n",
       "      <td>60</td>\n",
       "    </tr>\n",
       "    <tr>\n",
       "      <th>2</th>\n",
       "      <td>70</td>\n",
       "      <td>80</td>\n",
       "      <td>90</td>\n",
       "    </tr>\n",
       "  </tbody>\n",
       "</table>\n",
       "</div>"
      ],
      "text/plain": [
       "    0   1   2\n",
       "0  10  20  30\n",
       "1  40  50  60\n",
       "2  70  80  90"
      ]
     },
     "execution_count": 93,
     "metadata": {},
     "output_type": "execute_result"
    }
   ],
   "source": [
    "data_list = np.array([[10,20,30], [40,50,60], [70,80,90]])\n",
    "pd.DataFrame(data_list)"
   ]
  },
  {
   "cell_type": "code",
   "execution_count": 94,
   "id": "f4da959b-5986-4717-8cba-6c43c3f95168",
   "metadata": {},
   "outputs": [
    {
     "data": {
      "text/plain": [
       "{'연도': [2015, 2016, 2016, 2017, 2017],\n",
       " '지사': ['한국', '한국', '미국', '한국', '미국'],\n",
       " '고객 수': [200, 250, 450, 300, 500]}"
      ]
     },
     "execution_count": 94,
     "metadata": {},
     "output_type": "execute_result"
    }
   ],
   "source": [
    "table_data = {'연도': [2015,2016,2016,2017,2017],\n",
    "              '지사': ['한국', '한국', '미국', '한국', '미국'],\n",
    "              '고객 수': [200,250,450,300,500]}\n",
    "table_data"
   ]
  },
  {
   "cell_type": "code",
   "execution_count": 95,
   "id": "a72f2ce3-83ed-4658-9933-a5b2d26f1885",
   "metadata": {},
   "outputs": [
    {
     "data": {
      "text/html": [
       "<div>\n",
       "<style scoped>\n",
       "    .dataframe tbody tr th:only-of-type {\n",
       "        vertical-align: middle;\n",
       "    }\n",
       "\n",
       "    .dataframe tbody tr th {\n",
       "        vertical-align: top;\n",
       "    }\n",
       "\n",
       "    .dataframe thead th {\n",
       "        text-align: right;\n",
       "    }\n",
       "</style>\n",
       "<table border=\"1\" class=\"dataframe\">\n",
       "  <thead>\n",
       "    <tr style=\"text-align: right;\">\n",
       "      <th></th>\n",
       "      <th>연도</th>\n",
       "      <th>지사</th>\n",
       "      <th>고객 수</th>\n",
       "    </tr>\n",
       "  </thead>\n",
       "  <tbody>\n",
       "    <tr>\n",
       "      <th>0</th>\n",
       "      <td>2015</td>\n",
       "      <td>한국</td>\n",
       "      <td>200</td>\n",
       "    </tr>\n",
       "    <tr>\n",
       "      <th>1</th>\n",
       "      <td>2016</td>\n",
       "      <td>한국</td>\n",
       "      <td>250</td>\n",
       "    </tr>\n",
       "    <tr>\n",
       "      <th>2</th>\n",
       "      <td>2016</td>\n",
       "      <td>미국</td>\n",
       "      <td>450</td>\n",
       "    </tr>\n",
       "    <tr>\n",
       "      <th>3</th>\n",
       "      <td>2017</td>\n",
       "      <td>한국</td>\n",
       "      <td>300</td>\n",
       "    </tr>\n",
       "    <tr>\n",
       "      <th>4</th>\n",
       "      <td>2017</td>\n",
       "      <td>미국</td>\n",
       "      <td>500</td>\n",
       "    </tr>\n",
       "  </tbody>\n",
       "</table>\n",
       "</div>"
      ],
      "text/plain": [
       "     연도  지사  고객 수\n",
       "0  2015  한국   200\n",
       "1  2016  한국   250\n",
       "2  2016  미국   450\n",
       "3  2017  한국   300\n",
       "4  2017  미국   500"
      ]
     },
     "execution_count": 95,
     "metadata": {},
     "output_type": "execute_result"
    }
   ],
   "source": [
    "pd.DataFrame(table_data)"
   ]
  },
  {
   "cell_type": "code",
   "execution_count": 96,
   "id": "e53b6ca2-7ec4-4d36-a0cc-3f38b56fbcf5",
   "metadata": {},
   "outputs": [
    {
     "data": {
      "text/html": [
       "<div>\n",
       "<style scoped>\n",
       "    .dataframe tbody tr th:only-of-type {\n",
       "        vertical-align: middle;\n",
       "    }\n",
       "\n",
       "    .dataframe tbody tr th {\n",
       "        vertical-align: top;\n",
       "    }\n",
       "\n",
       "    .dataframe thead th {\n",
       "        text-align: right;\n",
       "    }\n",
       "</style>\n",
       "<table border=\"1\" class=\"dataframe\">\n",
       "  <thead>\n",
       "    <tr style=\"text-align: right;\">\n",
       "      <th></th>\n",
       "      <th>연도</th>\n",
       "      <th>지사</th>\n",
       "      <th>고객 수</th>\n",
       "    </tr>\n",
       "  </thead>\n",
       "  <tbody>\n",
       "    <tr>\n",
       "      <th>0</th>\n",
       "      <td>2015</td>\n",
       "      <td>한국</td>\n",
       "      <td>200</td>\n",
       "    </tr>\n",
       "    <tr>\n",
       "      <th>1</th>\n",
       "      <td>2016</td>\n",
       "      <td>한국</td>\n",
       "      <td>250</td>\n",
       "    </tr>\n",
       "    <tr>\n",
       "      <th>2</th>\n",
       "      <td>2016</td>\n",
       "      <td>미국</td>\n",
       "      <td>450</td>\n",
       "    </tr>\n",
       "    <tr>\n",
       "      <th>3</th>\n",
       "      <td>2017</td>\n",
       "      <td>한국</td>\n",
       "      <td>300</td>\n",
       "    </tr>\n",
       "    <tr>\n",
       "      <th>4</th>\n",
       "      <td>2017</td>\n",
       "      <td>미국</td>\n",
       "      <td>500</td>\n",
       "    </tr>\n",
       "  </tbody>\n",
       "</table>\n",
       "</div>"
      ],
      "text/plain": [
       "     연도  지사  고객 수\n",
       "0  2015  한국   200\n",
       "1  2016  한국   250\n",
       "2  2016  미국   450\n",
       "3  2017  한국   300\n",
       "4  2017  미국   500"
      ]
     },
     "execution_count": 96,
     "metadata": {},
     "output_type": "execute_result"
    }
   ],
   "source": [
    "df = pd.DataFrame(table_data, columns=['연도', '지사', '고객 수'])\n",
    "df"
   ]
  },
  {
   "cell_type": "code",
   "execution_count": 97,
   "id": "8f23ac4a-c68d-4467-84fb-1ac184b31f8a",
   "metadata": {},
   "outputs": [
    {
     "data": {
      "text/plain": [
       "RangeIndex(start=0, stop=5, step=1)"
      ]
     },
     "execution_count": 97,
     "metadata": {},
     "output_type": "execute_result"
    }
   ],
   "source": [
    "df.index"
   ]
  },
  {
   "cell_type": "code",
   "execution_count": 98,
   "id": "5012ff56-5b95-4f35-9af0-1f5aa686b6d0",
   "metadata": {},
   "outputs": [
    {
     "data": {
      "text/plain": [
       "Index(['연도', '지사', '고객 수'], dtype='object')"
      ]
     },
     "execution_count": 98,
     "metadata": {},
     "output_type": "execute_result"
    }
   ],
   "source": [
    "df.columns"
   ]
  },
  {
   "cell_type": "code",
   "execution_count": 99,
   "id": "ec7ba975-d76b-4bfb-8bcd-cd83a601c400",
   "metadata": {},
   "outputs": [
    {
     "data": {
      "text/plain": [
       "array([[2015, '한국', 200],\n",
       "       [2016, '한국', 250],\n",
       "       [2016, '미국', 450],\n",
       "       [2017, '한국', 300],\n",
       "       [2017, '미국', 500]], dtype=object)"
      ]
     },
     "execution_count": 99,
     "metadata": {},
     "output_type": "execute_result"
    }
   ],
   "source": [
    "df.values"
   ]
  },
  {
   "cell_type": "code",
   "execution_count": 100,
   "id": "5182e2b2-36e8-4dd1-802a-f4829fe80f58",
   "metadata": {},
   "outputs": [
    {
     "data": {
      "text/html": [
       "<div>\n",
       "<style scoped>\n",
       "    .dataframe tbody tr th:only-of-type {\n",
       "        vertical-align: middle;\n",
       "    }\n",
       "\n",
       "    .dataframe tbody tr th {\n",
       "        vertical-align: top;\n",
       "    }\n",
       "\n",
       "    .dataframe thead th {\n",
       "        text-align: right;\n",
       "    }\n",
       "</style>\n",
       "<table border=\"1\" class=\"dataframe\">\n",
       "  <thead>\n",
       "    <tr style=\"text-align: right;\">\n",
       "      <th></th>\n",
       "      <th>봄</th>\n",
       "      <th>여름</th>\n",
       "      <th>가을</th>\n",
       "      <th>겨울</th>\n",
       "    </tr>\n",
       "  </thead>\n",
       "  <tbody>\n",
       "    <tr>\n",
       "      <th>2012</th>\n",
       "      <td>256.5</td>\n",
       "      <td>770.6</td>\n",
       "      <td>363.5</td>\n",
       "      <td>139.3</td>\n",
       "    </tr>\n",
       "    <tr>\n",
       "      <th>2013</th>\n",
       "      <td>264.3</td>\n",
       "      <td>567.5</td>\n",
       "      <td>231.2</td>\n",
       "      <td>59.9</td>\n",
       "    </tr>\n",
       "    <tr>\n",
       "      <th>2014</th>\n",
       "      <td>215.9</td>\n",
       "      <td>599.8</td>\n",
       "      <td>293.1</td>\n",
       "      <td>76.9</td>\n",
       "    </tr>\n",
       "    <tr>\n",
       "      <th>2015</th>\n",
       "      <td>223.2</td>\n",
       "      <td>387.1</td>\n",
       "      <td>247.7</td>\n",
       "      <td>109.1</td>\n",
       "    </tr>\n",
       "    <tr>\n",
       "      <th>2016</th>\n",
       "      <td>312.8</td>\n",
       "      <td>446.2</td>\n",
       "      <td>381.6</td>\n",
       "      <td>108.1</td>\n",
       "    </tr>\n",
       "  </tbody>\n",
       "</table>\n",
       "</div>"
      ],
      "text/plain": [
       "          봄     여름     가을     겨울\n",
       "2012  256.5  770.6  363.5  139.3\n",
       "2013  264.3  567.5  231.2   59.9\n",
       "2014  215.9  599.8  293.1   76.9\n",
       "2015  223.2  387.1  247.7  109.1\n",
       "2016  312.8  446.2  381.6  108.1"
      ]
     },
     "execution_count": 100,
     "metadata": {},
     "output_type": "execute_result"
    }
   ],
   "source": [
    "table_data3 = {'봄': [256.5, 264.3, 215.9, 223.2, 312.8],\n",
    "               '여름': [770.6, 567.5, 599.8, 387.1, 446.2],\n",
    "               '가을': [363.5, 231.2, 293.1, 247.7, 381.6],\n",
    "               '겨울': [139.3, 59.9, 76.9, 109.1, 108.1]}\n",
    "columns_list = ['봄', '여름', '가을', '겨울']\n",
    "index_list = ['2012', '2013', '2014', '2015', '2016']\n",
    "\n",
    "df3 = pd.DataFrame(table_data3, columns = columns_list, index = index_list)\n",
    "df3"
   ]
  },
  {
   "cell_type": "code",
   "execution_count": 101,
   "id": "64617a4d-1864-46cd-a8cf-e5ff122a6e07",
   "metadata": {},
   "outputs": [
    {
     "data": {
      "text/plain": [
       "봄     254.54\n",
       "여름    554.24\n",
       "가을    303.42\n",
       "겨울     98.66\n",
       "dtype: float64"
      ]
     },
     "execution_count": 101,
     "metadata": {},
     "output_type": "execute_result"
    }
   ],
   "source": [
    "df3.mean()"
   ]
  },
  {
   "cell_type": "code",
   "execution_count": 102,
   "id": "80e333c3-711c-4577-857c-0c3a1b3354e6",
   "metadata": {},
   "outputs": [
    {
     "data": {
      "text/plain": [
       "봄      38.628267\n",
       "여름    148.888895\n",
       "가을     67.358496\n",
       "겨울     30.925523\n",
       "dtype: float64"
      ]
     },
     "execution_count": 102,
     "metadata": {},
     "output_type": "execute_result"
    }
   ],
   "source": [
    "df3.std()"
   ]
  },
  {
   "cell_type": "code",
   "execution_count": 103,
   "id": "23a7f033-7354-4726-95e9-922d5a62071f",
   "metadata": {},
   "outputs": [
    {
     "data": {
      "text/plain": [
       "2012    382.475\n",
       "2013    280.725\n",
       "2014    296.425\n",
       "2015    241.775\n",
       "2016    312.175\n",
       "dtype: float64"
      ]
     },
     "execution_count": 103,
     "metadata": {},
     "output_type": "execute_result"
    }
   ],
   "source": [
    "df3.mean(axis=1)"
   ]
  },
  {
   "cell_type": "code",
   "execution_count": 104,
   "id": "c1b0436b-7ad5-46a0-b5d3-70c1185a01df",
   "metadata": {},
   "outputs": [
    {
     "data": {
      "text/plain": [
       "2012    274.472128\n",
       "2013    211.128782\n",
       "2014    221.150739\n",
       "2015    114.166760\n",
       "2016    146.548658\n",
       "dtype: float64"
      ]
     },
     "execution_count": 104,
     "metadata": {},
     "output_type": "execute_result"
    }
   ],
   "source": [
    "df3.std(axis=1)"
   ]
  },
  {
   "cell_type": "code",
   "execution_count": 105,
   "id": "80140a70-7a22-41f7-87d1-19c6d04d9861",
   "metadata": {},
   "outputs": [
    {
     "data": {
      "text/html": [
       "<div>\n",
       "<style scoped>\n",
       "    .dataframe tbody tr th:only-of-type {\n",
       "        vertical-align: middle;\n",
       "    }\n",
       "\n",
       "    .dataframe tbody tr th {\n",
       "        vertical-align: top;\n",
       "    }\n",
       "\n",
       "    .dataframe thead th {\n",
       "        text-align: right;\n",
       "    }\n",
       "</style>\n",
       "<table border=\"1\" class=\"dataframe\">\n",
       "  <thead>\n",
       "    <tr style=\"text-align: right;\">\n",
       "      <th></th>\n",
       "      <th>봄</th>\n",
       "      <th>여름</th>\n",
       "      <th>가을</th>\n",
       "      <th>겨울</th>\n",
       "    </tr>\n",
       "  </thead>\n",
       "  <tbody>\n",
       "    <tr>\n",
       "      <th>count</th>\n",
       "      <td>5.000000</td>\n",
       "      <td>5.000000</td>\n",
       "      <td>5.000000</td>\n",
       "      <td>5.000000</td>\n",
       "    </tr>\n",
       "    <tr>\n",
       "      <th>mean</th>\n",
       "      <td>254.540000</td>\n",
       "      <td>554.240000</td>\n",
       "      <td>303.420000</td>\n",
       "      <td>98.660000</td>\n",
       "    </tr>\n",
       "    <tr>\n",
       "      <th>std</th>\n",
       "      <td>38.628267</td>\n",
       "      <td>148.888895</td>\n",
       "      <td>67.358496</td>\n",
       "      <td>30.925523</td>\n",
       "    </tr>\n",
       "    <tr>\n",
       "      <th>min</th>\n",
       "      <td>215.900000</td>\n",
       "      <td>387.100000</td>\n",
       "      <td>231.200000</td>\n",
       "      <td>59.900000</td>\n",
       "    </tr>\n",
       "    <tr>\n",
       "      <th>25%</th>\n",
       "      <td>223.200000</td>\n",
       "      <td>446.200000</td>\n",
       "      <td>247.700000</td>\n",
       "      <td>76.900000</td>\n",
       "    </tr>\n",
       "    <tr>\n",
       "      <th>50%</th>\n",
       "      <td>256.500000</td>\n",
       "      <td>567.500000</td>\n",
       "      <td>293.100000</td>\n",
       "      <td>108.100000</td>\n",
       "    </tr>\n",
       "    <tr>\n",
       "      <th>75%</th>\n",
       "      <td>264.300000</td>\n",
       "      <td>599.800000</td>\n",
       "      <td>363.500000</td>\n",
       "      <td>109.100000</td>\n",
       "    </tr>\n",
       "    <tr>\n",
       "      <th>max</th>\n",
       "      <td>312.800000</td>\n",
       "      <td>770.600000</td>\n",
       "      <td>381.600000</td>\n",
       "      <td>139.300000</td>\n",
       "    </tr>\n",
       "  </tbody>\n",
       "</table>\n",
       "</div>"
      ],
      "text/plain": [
       "                봄          여름          가을          겨울\n",
       "count    5.000000    5.000000    5.000000    5.000000\n",
       "mean   254.540000  554.240000  303.420000   98.660000\n",
       "std     38.628267  148.888895   67.358496   30.925523\n",
       "min    215.900000  387.100000  231.200000   59.900000\n",
       "25%    223.200000  446.200000  247.700000   76.900000\n",
       "50%    256.500000  567.500000  293.100000  108.100000\n",
       "75%    264.300000  599.800000  363.500000  109.100000\n",
       "max    312.800000  770.600000  381.600000  139.300000"
      ]
     },
     "execution_count": 105,
     "metadata": {},
     "output_type": "execute_result"
    }
   ],
   "source": [
    "df3.describe()"
   ]
  },
  {
   "cell_type": "code",
   "execution_count": 106,
   "id": "f33e7bd2-8951-414d-be70-b8a954a3f577",
   "metadata": {},
   "outputs": [
    {
     "data": {
      "text/html": [
       "<div>\n",
       "<style scoped>\n",
       "    .dataframe tbody tr th:only-of-type {\n",
       "        vertical-align: middle;\n",
       "    }\n",
       "\n",
       "    .dataframe tbody tr th {\n",
       "        vertical-align: top;\n",
       "    }\n",
       "\n",
       "    .dataframe thead th {\n",
       "        text-align: right;\n",
       "    }\n",
       "</style>\n",
       "<table border=\"1\" class=\"dataframe\">\n",
       "  <thead>\n",
       "    <tr style=\"text-align: right;\">\n",
       "      <th></th>\n",
       "      <th>Class1</th>\n",
       "      <th>Class2</th>\n",
       "    </tr>\n",
       "  </thead>\n",
       "  <tbody>\n",
       "    <tr>\n",
       "      <th>0</th>\n",
       "      <td>95</td>\n",
       "      <td>91</td>\n",
       "    </tr>\n",
       "    <tr>\n",
       "      <th>1</th>\n",
       "      <td>92</td>\n",
       "      <td>93</td>\n",
       "    </tr>\n",
       "    <tr>\n",
       "      <th>2</th>\n",
       "      <td>98</td>\n",
       "      <td>97</td>\n",
       "    </tr>\n",
       "    <tr>\n",
       "      <th>3</th>\n",
       "      <td>100</td>\n",
       "      <td>99</td>\n",
       "    </tr>\n",
       "  </tbody>\n",
       "</table>\n",
       "</div>"
      ],
      "text/plain": [
       "   Class1  Class2\n",
       "0      95      91\n",
       "1      92      93\n",
       "2      98      97\n",
       "3     100      99"
      ]
     },
     "execution_count": 106,
     "metadata": {},
     "output_type": "execute_result"
    }
   ],
   "source": [
    "import numpy as np\n",
    "import pandas as pd\n",
    "\n",
    "df1 = pd.DataFrame({'Class1': [95,92,98,100],\n",
    "                    'Class2': [91,93,97,99]})\n",
    "df1"
   ]
  },
  {
   "cell_type": "code",
   "execution_count": 107,
   "id": "54305c3a-4f41-4d03-88a6-26d8d6c04e92",
   "metadata": {},
   "outputs": [
    {
     "data": {
      "text/html": [
       "<div>\n",
       "<style scoped>\n",
       "    .dataframe tbody tr th:only-of-type {\n",
       "        vertical-align: middle;\n",
       "    }\n",
       "\n",
       "    .dataframe tbody tr th {\n",
       "        vertical-align: top;\n",
       "    }\n",
       "\n",
       "    .dataframe thead th {\n",
       "        text-align: right;\n",
       "    }\n",
       "</style>\n",
       "<table border=\"1\" class=\"dataframe\">\n",
       "  <thead>\n",
       "    <tr style=\"text-align: right;\">\n",
       "      <th></th>\n",
       "      <th>Class1</th>\n",
       "      <th>Class2</th>\n",
       "    </tr>\n",
       "  </thead>\n",
       "  <tbody>\n",
       "    <tr>\n",
       "      <th>0</th>\n",
       "      <td>87</td>\n",
       "      <td>85</td>\n",
       "    </tr>\n",
       "    <tr>\n",
       "      <th>1</th>\n",
       "      <td>89</td>\n",
       "      <td>90</td>\n",
       "    </tr>\n",
       "  </tbody>\n",
       "</table>\n",
       "</div>"
      ],
      "text/plain": [
       "   Class1  Class2\n",
       "0      87      85\n",
       "1      89      90"
      ]
     },
     "execution_count": 107,
     "metadata": {},
     "output_type": "execute_result"
    }
   ],
   "source": [
    "df2 = pd.DataFrame({'Class1': [87,89],\n",
    "                    'Class2': [85,90]})\n",
    "df2"
   ]
  },
  {
   "cell_type": "code",
   "execution_count": 108,
   "id": "d91e3b77-798a-49ad-99ae-c639e36704af",
   "metadata": {},
   "outputs": [
    {
     "data": {
      "text/html": [
       "<div>\n",
       "<style scoped>\n",
       "    .dataframe tbody tr th:only-of-type {\n",
       "        vertical-align: middle;\n",
       "    }\n",
       "\n",
       "    .dataframe tbody tr th {\n",
       "        vertical-align: top;\n",
       "    }\n",
       "\n",
       "    .dataframe thead th {\n",
       "        text-align: right;\n",
       "    }\n",
       "</style>\n",
       "<table border=\"1\" class=\"dataframe\">\n",
       "  <thead>\n",
       "    <tr style=\"text-align: right;\">\n",
       "      <th></th>\n",
       "      <th>Class1</th>\n",
       "      <th>Class2</th>\n",
       "    </tr>\n",
       "  </thead>\n",
       "  <tbody>\n",
       "    <tr>\n",
       "      <th>0</th>\n",
       "      <td>95</td>\n",
       "      <td>91</td>\n",
       "    </tr>\n",
       "    <tr>\n",
       "      <th>1</th>\n",
       "      <td>92</td>\n",
       "      <td>93</td>\n",
       "    </tr>\n",
       "    <tr>\n",
       "      <th>2</th>\n",
       "      <td>98</td>\n",
       "      <td>97</td>\n",
       "    </tr>\n",
       "    <tr>\n",
       "      <th>3</th>\n",
       "      <td>100</td>\n",
       "      <td>99</td>\n",
       "    </tr>\n",
       "    <tr>\n",
       "      <th>4</th>\n",
       "      <td>87</td>\n",
       "      <td>85</td>\n",
       "    </tr>\n",
       "    <tr>\n",
       "      <th>5</th>\n",
       "      <td>89</td>\n",
       "      <td>90</td>\n",
       "    </tr>\n",
       "  </tbody>\n",
       "</table>\n",
       "</div>"
      ],
      "text/plain": [
       "   Class1  Class2\n",
       "0      95      91\n",
       "1      92      93\n",
       "2      98      97\n",
       "3     100      99\n",
       "4      87      85\n",
       "5      89      90"
      ]
     },
     "execution_count": 108,
     "metadata": {},
     "output_type": "execute_result"
    }
   ],
   "source": [
    "df3 = pd.concat([df1, df2], ignore_index = True)\n",
    "df3"
   ]
  },
  {
   "cell_type": "code",
   "execution_count": 109,
   "id": "2a64c502-c85e-409b-a5f0-874c6e38128e",
   "metadata": {},
   "outputs": [
    {
     "data": {
      "text/html": [
       "<div>\n",
       "<style scoped>\n",
       "    .dataframe tbody tr th:only-of-type {\n",
       "        vertical-align: middle;\n",
       "    }\n",
       "\n",
       "    .dataframe tbody tr th {\n",
       "        vertical-align: top;\n",
       "    }\n",
       "\n",
       "    .dataframe thead th {\n",
       "        text-align: right;\n",
       "    }\n",
       "</style>\n",
       "<table border=\"1\" class=\"dataframe\">\n",
       "  <thead>\n",
       "    <tr style=\"text-align: right;\">\n",
       "      <th></th>\n",
       "      <th>Class3</th>\n",
       "    </tr>\n",
       "  </thead>\n",
       "  <tbody>\n",
       "    <tr>\n",
       "      <th>0</th>\n",
       "      <td>90</td>\n",
       "    </tr>\n",
       "    <tr>\n",
       "      <th>1</th>\n",
       "      <td>91</td>\n",
       "    </tr>\n",
       "    <tr>\n",
       "      <th>2</th>\n",
       "      <td>92</td>\n",
       "    </tr>\n",
       "    <tr>\n",
       "      <th>3</th>\n",
       "      <td>93</td>\n",
       "    </tr>\n",
       "  </tbody>\n",
       "</table>\n",
       "</div>"
      ],
      "text/plain": [
       "   Class3\n",
       "0      90\n",
       "1      91\n",
       "2      92\n",
       "3      93"
      ]
     },
     "execution_count": 109,
     "metadata": {},
     "output_type": "execute_result"
    }
   ],
   "source": [
    "df3 = pd.DataFrame({'Class3': [90,91,92,93]})\n",
    "df3"
   ]
  },
  {
   "cell_type": "code",
   "execution_count": 110,
   "id": "42208793-8b26-42c4-980a-42a89a69fc65",
   "metadata": {},
   "outputs": [
    {
     "data": {
      "text/html": [
       "<div>\n",
       "<style scoped>\n",
       "    .dataframe tbody tr th:only-of-type {\n",
       "        vertical-align: middle;\n",
       "    }\n",
       "\n",
       "    .dataframe tbody tr th {\n",
       "        vertical-align: top;\n",
       "    }\n",
       "\n",
       "    .dataframe thead th {\n",
       "        text-align: right;\n",
       "    }\n",
       "</style>\n",
       "<table border=\"1\" class=\"dataframe\">\n",
       "  <thead>\n",
       "    <tr style=\"text-align: right;\">\n",
       "      <th></th>\n",
       "      <th>Class1</th>\n",
       "      <th>Class2</th>\n",
       "      <th>Class3</th>\n",
       "    </tr>\n",
       "  </thead>\n",
       "  <tbody>\n",
       "    <tr>\n",
       "      <th>0</th>\n",
       "      <td>95</td>\n",
       "      <td>91</td>\n",
       "      <td>90</td>\n",
       "    </tr>\n",
       "    <tr>\n",
       "      <th>1</th>\n",
       "      <td>92</td>\n",
       "      <td>93</td>\n",
       "      <td>91</td>\n",
       "    </tr>\n",
       "    <tr>\n",
       "      <th>2</th>\n",
       "      <td>98</td>\n",
       "      <td>97</td>\n",
       "      <td>92</td>\n",
       "    </tr>\n",
       "    <tr>\n",
       "      <th>3</th>\n",
       "      <td>100</td>\n",
       "      <td>99</td>\n",
       "      <td>93</td>\n",
       "    </tr>\n",
       "  </tbody>\n",
       "</table>\n",
       "</div>"
      ],
      "text/plain": [
       "   Class1  Class2  Class3\n",
       "0      95      91      90\n",
       "1      92      93      91\n",
       "2      98      97      92\n",
       "3     100      99      93"
      ]
     },
     "execution_count": 110,
     "metadata": {},
     "output_type": "execute_result"
    }
   ],
   "source": [
    "df1.join(df3)"
   ]
  },
  {
   "cell_type": "code",
   "execution_count": 111,
   "id": "6bfe5ba9-50e9-45c9-beb8-833e82ee0653",
   "metadata": {},
   "outputs": [
    {
     "data": {
      "text/html": [
       "<div>\n",
       "<style scoped>\n",
       "    .dataframe tbody tr th:only-of-type {\n",
       "        vertical-align: middle;\n",
       "    }\n",
       "\n",
       "    .dataframe tbody tr th {\n",
       "        vertical-align: top;\n",
       "    }\n",
       "\n",
       "    .dataframe thead th {\n",
       "        text-align: right;\n",
       "    }\n",
       "</style>\n",
       "<table border=\"1\" class=\"dataframe\">\n",
       "  <thead>\n",
       "    <tr style=\"text-align: right;\">\n",
       "      <th></th>\n",
       "      <th>연도</th>\n",
       "      <th>동해</th>\n",
       "      <th>남해</th>\n",
       "      <th>서해</th>\n",
       "      <th>전체</th>\n",
       "    </tr>\n",
       "  </thead>\n",
       "  <tbody>\n",
       "    <tr>\n",
       "      <th>0</th>\n",
       "      <td>1996</td>\n",
       "      <td>17.4629</td>\n",
       "      <td>17.2288</td>\n",
       "      <td>14.4360</td>\n",
       "      <td>15.9067</td>\n",
       "    </tr>\n",
       "    <tr>\n",
       "      <th>1</th>\n",
       "      <td>1997</td>\n",
       "      <td>17.4116</td>\n",
       "      <td>17.4092</td>\n",
       "      <td>14.8248</td>\n",
       "      <td>16.1526</td>\n",
       "    </tr>\n",
       "    <tr>\n",
       "      <th>2</th>\n",
       "      <td>1998</td>\n",
       "      <td>17.5944</td>\n",
       "      <td>18.0110</td>\n",
       "      <td>15.2512</td>\n",
       "      <td>16.6044</td>\n",
       "    </tr>\n",
       "    <tr>\n",
       "      <th>3</th>\n",
       "      <td>1999</td>\n",
       "      <td>18.1495</td>\n",
       "      <td>18.3175</td>\n",
       "      <td>14.8979</td>\n",
       "      <td>16.6284</td>\n",
       "    </tr>\n",
       "    <tr>\n",
       "      <th>4</th>\n",
       "      <td>2000</td>\n",
       "      <td>17.9288</td>\n",
       "      <td>18.1766</td>\n",
       "      <td>15.0504</td>\n",
       "      <td>16.6178</td>\n",
       "    </tr>\n",
       "  </tbody>\n",
       "</table>\n",
       "</div>"
      ],
      "text/plain": [
       "     연도       동해       남해       서해       전체\n",
       "0  1996  17.4629  17.2288  14.4360  15.9067\n",
       "1  1997  17.4116  17.4092  14.8248  16.1526\n",
       "2  1998  17.5944  18.0110  15.2512  16.6044\n",
       "3  1999  18.1495  18.3175  14.8979  16.6284\n",
       "4  2000  17.9288  18.1766  15.0504  16.6178"
      ]
     },
     "execution_count": 111,
     "metadata": {},
     "output_type": "execute_result"
    }
   ],
   "source": [
    "df = pd.read_csv('data/sea_rain1_from_notepad.csv', encoding='cp949')\n",
    "df"
   ]
  },
  {
   "cell_type": "code",
   "execution_count": 112,
   "id": "abf4509f-2278-4966-9dac-d6503ff56ab3",
   "metadata": {},
   "outputs": [
    {
     "data": {
      "text/html": [
       "<div>\n",
       "<style scoped>\n",
       "    .dataframe tbody tr th:only-of-type {\n",
       "        vertical-align: middle;\n",
       "    }\n",
       "\n",
       "    .dataframe tbody tr th {\n",
       "        vertical-align: top;\n",
       "    }\n",
       "\n",
       "    .dataframe thead th {\n",
       "        text-align: right;\n",
       "    }\n",
       "</style>\n",
       "<table border=\"1\" class=\"dataframe\">\n",
       "  <thead>\n",
       "    <tr style=\"text-align: right;\">\n",
       "      <th></th>\n",
       "      <th>동해</th>\n",
       "      <th>남해</th>\n",
       "      <th>서해</th>\n",
       "      <th>전체</th>\n",
       "    </tr>\n",
       "    <tr>\n",
       "      <th>연도</th>\n",
       "      <th></th>\n",
       "      <th></th>\n",
       "      <th></th>\n",
       "      <th></th>\n",
       "    </tr>\n",
       "  </thead>\n",
       "  <tbody>\n",
       "    <tr>\n",
       "      <th>1996</th>\n",
       "      <td>17.4629</td>\n",
       "      <td>17.2288</td>\n",
       "      <td>14.4360</td>\n",
       "      <td>15.9067</td>\n",
       "    </tr>\n",
       "    <tr>\n",
       "      <th>1997</th>\n",
       "      <td>17.4116</td>\n",
       "      <td>17.4092</td>\n",
       "      <td>14.8248</td>\n",
       "      <td>16.1526</td>\n",
       "    </tr>\n",
       "    <tr>\n",
       "      <th>1998</th>\n",
       "      <td>17.5944</td>\n",
       "      <td>18.0110</td>\n",
       "      <td>15.2512</td>\n",
       "      <td>16.6044</td>\n",
       "    </tr>\n",
       "    <tr>\n",
       "      <th>1999</th>\n",
       "      <td>18.1495</td>\n",
       "      <td>18.3175</td>\n",
       "      <td>14.8979</td>\n",
       "      <td>16.6284</td>\n",
       "    </tr>\n",
       "    <tr>\n",
       "      <th>2000</th>\n",
       "      <td>17.9288</td>\n",
       "      <td>18.1766</td>\n",
       "      <td>15.0504</td>\n",
       "      <td>16.6178</td>\n",
       "    </tr>\n",
       "  </tbody>\n",
       "</table>\n",
       "</div>"
      ],
      "text/plain": [
       "           동해       남해       서해       전체\n",
       "연도                                      \n",
       "1996  17.4629  17.2288  14.4360  15.9067\n",
       "1997  17.4116  17.4092  14.8248  16.1526\n",
       "1998  17.5944  18.0110  15.2512  16.6044\n",
       "1999  18.1495  18.3175  14.8979  16.6284\n",
       "2000  17.9288  18.1766  15.0504  16.6178"
      ]
     },
     "execution_count": 112,
     "metadata": {},
     "output_type": "execute_result"
    }
   ],
   "source": [
    "df = pd.read_csv('data/sea_rain1_from_notepad.csv',index_col=\"연도\", encoding='cp949')\n",
    "df"
   ]
  },
  {
   "cell_type": "code",
   "execution_count": 113,
   "id": "230f24c8-601c-4947-9d3b-c66b67bfe267",
   "metadata": {},
   "outputs": [
    {
     "data": {
      "text/html": [
       "<div>\n",
       "<style scoped>\n",
       "    .dataframe tbody tr th:only-of-type {\n",
       "        vertical-align: middle;\n",
       "    }\n",
       "\n",
       "    .dataframe tbody tr th {\n",
       "        vertical-align: top;\n",
       "    }\n",
       "\n",
       "    .dataframe thead th {\n",
       "        text-align: right;\n",
       "    }\n",
       "</style>\n",
       "<table border=\"1\" class=\"dataframe\">\n",
       "  <thead>\n",
       "    <tr style=\"text-align: right;\">\n",
       "      <th></th>\n",
       "      <th>Weight</th>\n",
       "      <th>Height</th>\n",
       "    </tr>\n",
       "    <tr>\n",
       "      <th>User</th>\n",
       "      <th></th>\n",
       "      <th></th>\n",
       "    </tr>\n",
       "  </thead>\n",
       "  <tbody>\n",
       "    <tr>\n",
       "      <th>ID_1</th>\n",
       "      <td>62</td>\n",
       "      <td>165</td>\n",
       "    </tr>\n",
       "    <tr>\n",
       "      <th>ID_2</th>\n",
       "      <td>67</td>\n",
       "      <td>177</td>\n",
       "    </tr>\n",
       "    <tr>\n",
       "      <th>ID_3</th>\n",
       "      <td>55</td>\n",
       "      <td>160</td>\n",
       "    </tr>\n",
       "    <tr>\n",
       "      <th>ID_4</th>\n",
       "      <td>74</td>\n",
       "      <td>180</td>\n",
       "    </tr>\n",
       "  </tbody>\n",
       "</table>\n",
       "</div>"
      ],
      "text/plain": [
       "      Weight  Height\n",
       "User                \n",
       "ID_1      62     165\n",
       "ID_2      67     177\n",
       "ID_3      55     160\n",
       "ID_4      74     180"
      ]
     },
     "execution_count": 113,
     "metadata": {},
     "output_type": "execute_result"
    }
   ],
   "source": [
    "df_WH = pd.DataFrame({'Weight': [62,67,55,74],\n",
    "                      'Height': [165,177,160,180]},\n",
    "                      index=['ID_1','ID_2','ID_3','ID_4'])\n",
    "df_WH.index.name = 'User'\n",
    "df_WH"
   ]
  },
  {
   "cell_type": "code",
   "execution_count": 114,
   "id": "19fd1a0b-6b7d-4b50-a4f4-e6ed247f791b",
   "metadata": {},
   "outputs": [
    {
     "data": {
      "text/plain": [
       "User\n",
       "ID_1    22.773186\n",
       "ID_2    21.385936\n",
       "ID_3    21.484375\n",
       "ID_4    22.839506\n",
       "dtype: float64"
      ]
     },
     "execution_count": 114,
     "metadata": {},
     "output_type": "execute_result"
    }
   ],
   "source": [
    "bmi = df_WH['Weight']/(df_WH['Height']/100)**2\n",
    "bmi"
   ]
  },
  {
   "cell_type": "code",
   "execution_count": 115,
   "id": "45f03000-5a14-4480-ac31-a13612c084d9",
   "metadata": {},
   "outputs": [
    {
     "data": {
      "text/html": [
       "<div>\n",
       "<style scoped>\n",
       "    .dataframe tbody tr th:only-of-type {\n",
       "        vertical-align: middle;\n",
       "    }\n",
       "\n",
       "    .dataframe tbody tr th {\n",
       "        vertical-align: top;\n",
       "    }\n",
       "\n",
       "    .dataframe thead th {\n",
       "        text-align: right;\n",
       "    }\n",
       "</style>\n",
       "<table border=\"1\" class=\"dataframe\">\n",
       "  <thead>\n",
       "    <tr style=\"text-align: right;\">\n",
       "      <th></th>\n",
       "      <th>Weight</th>\n",
       "      <th>Height</th>\n",
       "      <th>BMI</th>\n",
       "    </tr>\n",
       "    <tr>\n",
       "      <th>User</th>\n",
       "      <th></th>\n",
       "      <th></th>\n",
       "      <th></th>\n",
       "    </tr>\n",
       "  </thead>\n",
       "  <tbody>\n",
       "    <tr>\n",
       "      <th>ID_1</th>\n",
       "      <td>62</td>\n",
       "      <td>165</td>\n",
       "      <td>22.773186</td>\n",
       "    </tr>\n",
       "    <tr>\n",
       "      <th>ID_2</th>\n",
       "      <td>67</td>\n",
       "      <td>177</td>\n",
       "      <td>21.385936</td>\n",
       "    </tr>\n",
       "    <tr>\n",
       "      <th>ID_3</th>\n",
       "      <td>55</td>\n",
       "      <td>160</td>\n",
       "      <td>21.484375</td>\n",
       "    </tr>\n",
       "    <tr>\n",
       "      <th>ID_4</th>\n",
       "      <td>74</td>\n",
       "      <td>180</td>\n",
       "      <td>22.839506</td>\n",
       "    </tr>\n",
       "  </tbody>\n",
       "</table>\n",
       "</div>"
      ],
      "text/plain": [
       "      Weight  Height        BMI\n",
       "User                           \n",
       "ID_1      62     165  22.773186\n",
       "ID_2      67     177  21.385936\n",
       "ID_3      55     160  21.484375\n",
       "ID_4      74     180  22.839506"
      ]
     },
     "execution_count": 115,
     "metadata": {},
     "output_type": "execute_result"
    }
   ],
   "source": [
    "df_WH['BMI']=bmi\n",
    "df_WH"
   ]
  },
  {
   "cell_type": "code",
   "execution_count": 116,
   "id": "5723ed42-a360-4fa8-89a8-bb637e25547e",
   "metadata": {},
   "outputs": [],
   "source": [
    "df_WH.to_csv('data/save_DataFrame.csv', index=False)"
   ]
  },
  {
   "cell_type": "markdown",
   "id": "d54e65f8-0177-4a8e-9604-d8b61464e62f",
   "metadata": {},
   "source": [
    "# 데이터 시각화"
   ]
  },
  {
   "cell_type": "code",
   "execution_count": 117,
   "id": "58e4bc23-6606-420a-a8a9-33d4e8f92c03",
   "metadata": {},
   "outputs": [],
   "source": [
    "import matplotlib.pyplot as plt"
   ]
  },
  {
   "cell_type": "code",
   "execution_count": 118,
   "id": "05b177a4-9de3-43b8-8787-cfa2c5bd8d6c",
   "metadata": {},
   "outputs": [
    {
     "data": {
      "image/png": "[encoded data removed]",
      "text/plain": [
       "<Figure size 640x480 with 1 Axes>"
      ]
     },
     "metadata": {},
     "output_type": "display_data"
    }
   ],
   "source": [
    "import matplotlib.pyplot as plt\n",
    "\n",
    "# Matplotlib에서 사용할 특정 폰트 설정\n",
    "plt.rcParams['font.family'] = 'Arial'  # 'Arial'을 시스템에 설치된 원하는 폰트로 변경할 수 있습니다.\n",
    "\n",
    "data1 = [10, 14, 19, 20, 25]\n",
    "plt.plot(data1)\n",
    "plt.show()"
   ]
  },
  {
   "cell_type": "code",
   "execution_count": 119,
   "id": "8719f200-f15e-47d5-bf83-0337de1c3c13",
   "metadata": {},
   "outputs": [
    {
     "data": {
      "image/png": "[encoded data removed]",
      "text/plain": [
       "<Figure size 640x480 with 1 Axes>"
      ]
     },
     "metadata": {},
     "output_type": "display_data"
    }
   ],
   "source": [
    "plt.plot(data1)\n",
    "plt.show()"
   ]
  },
  {
   "cell_type": "code",
   "execution_count": 120,
   "id": "f23f9fb1-e384-4a98-8543-3b8c7c636181",
   "metadata": {},
   "outputs": [
    {
     "data": {
      "text/plain": [
       "[array([-4.5, -4. , -3.5, -3. , -2.5, -2. , -1.5, -1. , -0.5,  0. ,  0.5,\n",
       "         1. ,  1.5,  2. ,  2.5,  3. ,  3.5,  4. ,  4.5]),\n",
       " array([40.5, 32. , 24.5, 18. , 12.5,  8. ,  4.5,  2. ,  0.5,  0. ,  0.5,\n",
       "         2. ,  4.5,  8. , 12.5, 18. , 24.5, 32. , 40.5])]"
      ]
     },
     "execution_count": 120,
     "metadata": {},
     "output_type": "execute_result"
    }
   ],
   "source": [
    "import numpy as np\n",
    "\n",
    "x = np.arange(-4.5, 5, 0.5)\n",
    "y = 2*x**2\n",
    "[x,y]"
   ]
  },
  {
   "cell_type": "code",
   "execution_count": 121,
   "id": "f8a77734-1c64-4ca4-9b64-bc5623fad55b",
   "metadata": {},
   "outputs": [
    {
     "data": {
      "image/png": "[encoded data removed]",
      "text/plain": [
       "<Figure size 640x480 with 1 Axes>"
      ]
     },
     "metadata": {},
     "output_type": "display_data"
    }
   ],
   "source": [
    "plt.plot(x,y)\n",
    "plt.show()"
   ]
  },
  {
   "cell_type": "code",
   "execution_count": 123,
   "id": "a777f9c8-2b08-4f4a-97b1-c787a176ea51",
   "metadata": {},
   "outputs": [],
   "source": [
    "x = np.arange(-4.5, 5, 0.5)\n",
    "y1 = 2*x**2\n",
    "y2 = 5*x + 30\n",
    "y3 = 4*x**2 +10"
   ]
  },
  {
   "cell_type": "code",
   "execution_count": 124,
   "id": "d4ade0b4-4e35-45a5-91c0-1f4c5aeb6693",
   "metadata": {},
   "outputs": [
    {
     "data": {
      "image/png": "[encoded data removed]",
      "text/plain": [
       "<Figure size 640x480 with 1 Axes>"
      ]
     },
     "metadata": {},
     "output_type": "display_data"
    }
   ],
   "source": [
    "plt.plot(x,y1)\n",
    "plt.plot(x,y2)\n",
    "plt.plot(x,y3)\n",
    "plt.show()"
   ]
  },
  {
   "cell_type": "code",
   "execution_count": 125,
   "id": "26cce049-36e3-4917-98d3-fe28b4e6f185",
   "metadata": {},
   "outputs": [
    {
     "data": {
      "image/png": "[encoded data removed]",
      "text/plain": [
       "<Figure size 640x480 with 1 Axes>"
      ]
     },
     "metadata": {},
     "output_type": "display_data"
    }
   ],
   "source": [
    "plt.plot(x,y1,x,y2,x,y3)\n",
    "plt.show()"
   ]
  },
  {
   "cell_type": "code",
   "execution_count": 126,
   "id": "9d1fd492-1221-414f-a3bf-8c2302e74dab",
   "metadata": {},
   "outputs": [
    {
     "data": {
      "image/png": "[encoded data removed]",
      "text/plain": [
       "<Figure size 640x480 with 1 Axes>"
      ]
     },
     "metadata": {},
     "output_type": "display_data"
    },
    {
     "data": {
      "image/png": "[encoded data removed]",
      "text/plain": [
       "<Figure size 640x480 with 1 Axes>"
      ]
     },
     "metadata": {},
     "output_type": "display_data"
    },
    {
     "data": {
      "image/png": "[encoded data removed]",
      "text/plain": [
       "<Figure size 640x480 with 1 Axes>"
      ]
     },
     "metadata": {},
     "output_type": "display_data"
    }
   ],
   "source": [
    "plt.plot(x,y1)\n",
    "plt.figure()\n",
    "\n",
    "plt.plot(x,y2)\n",
    "plt.figure()\n",
    "\n",
    "plt.plot(x,y3)\n",
    "plt.show()"
   ]
  },
  {
   "cell_type": "code",
   "execution_count": 127,
   "id": "d2ea57fa-8fff-4232-a340-ff10ef97fcfe",
   "metadata": {},
   "outputs": [
    {
     "data": {
      "image/png": "[encoded data removed]",
      "text/plain": [
       "<Figure size 640x480 with 4 Axes>"
      ]
     },
     "metadata": {},
     "output_type": "display_data"
    }
   ],
   "source": [
    "x = np.arange(0,10,0.1)\n",
    "y1 = 0.3*(x-5)**2 + 1\n",
    "y2 = -1.5*x + 3\n",
    "y3 = np.sin(x)**2\n",
    "y4 = 10*np.exp(-x) + 1\n",
    "\n",
    "plt.subplot(2,2,1)\n",
    "plt.plot(x,y1)\n",
    "\n",
    "plt.subplot(2,2,2)\n",
    "plt.plot(x,y2)\n",
    "\n",
    "plt.subplot(2,2,3)\n",
    "plt.plot(x,y3)\n",
    "\n",
    "plt.subplot(2,2,4)\n",
    "plt.plot(x,y4)\n",
    "\n",
    "plt.show()"
   ]
  },
  {
   "cell_type": "code",
   "execution_count": 128,
   "id": "47e27a95-2ae4-4b01-8439-8b75448c54f2",
   "metadata": {},
   "outputs": [
    {
     "data": {
      "image/png": "[encoded data removed]",
      "text/plain": [
       "<Figure size 640x480 with 1 Axes>"
      ]
     },
     "metadata": {},
     "output_type": "display_data"
    }
   ],
   "source": [
    "x = np.arange(0,5,1)\n",
    "y1 = x\n",
    "y2 = x + 1\n",
    "y3 = x + 2\n",
    "y4 = x + 3\n",
    "\n",
    "plt.plot(x,y1,x,y2,x,y3,x,y4)\n",
    "plt.show()"
   ]
  },
  {
   "cell_type": "code",
   "execution_count": 129,
   "id": "995a636a-f94f-42d1-91dc-46b057f0bd4a",
   "metadata": {},
   "outputs": [
    {
     "data": {
      "image/png": "[encoded data removed]",
      "text/plain": [
       "<Figure size 640x480 with 1 Axes>"
      ]
     },
     "metadata": {},
     "output_type": "display_data"
    }
   ],
   "source": [
    "plt.plot(x,y1,'m',x,y2,'y',x,y3,'k',x,y4,'c')\n",
    "plt.show()"
   ]
  },
  {
   "cell_type": "code",
   "execution_count": 130,
   "id": "fe48648f-a526-451b-b666-c7b640100e59",
   "metadata": {},
   "outputs": [
    {
     "data": {
      "image/png": "[encoded data removed]",
      "text/plain": [
       "<Figure size 640x480 with 1 Axes>"
      ]
     },
     "metadata": {},
     "output_type": "display_data"
    }
   ],
   "source": [
    "plt.plot(x,y1,'-',x,y2,'--',x,y3,':',x,y4,'-.')\n",
    "plt.show()"
   ]
  },
  {
   "cell_type": "code",
   "execution_count": 131,
   "id": "bf8c87cf-5925-4cdb-a0a5-ff37768beaa8",
   "metadata": {},
   "outputs": [
    {
     "data": {
      "image/png": "[encoded data removed]",
      "text/plain": [
       "<Figure size 640x480 with 1 Axes>"
      ]
     },
     "metadata": {},
     "output_type": "display_data"
    }
   ],
   "source": [
    "plt.plot(x,y1,'o',x,y2,'^',x,y3,'s',x,y4,'d')\n",
    "plt.show()"
   ]
  },
  {
   "cell_type": "code",
   "execution_count": 132,
   "id": "2b9bb755-f991-4a53-a22b-351478e58c1f",
   "metadata": {},
   "outputs": [
    {
     "data": {
      "image/png": "[encoded data removed]",
      "text/plain": [
       "<Figure size 640x480 with 1 Axes>"
      ]
     },
     "metadata": {},
     "output_type": "display_data"
    }
   ],
   "source": [
    "x = np.arange(-4.5,5,0.5)\n",
    "y = 2*x**3\n",
    "\n",
    "plt.plot(x,y)\n",
    "plt.xlabel('X-axis')\n",
    "plt.ylabel('Y-axis')\n",
    "plt.title('Graph title')\n",
    "plt.grid(True)\n",
    "plt.show()"
   ]
  },
  {
   "cell_type": "code",
   "execution_count": 133,
   "id": "2d98579d-8716-4f85-b986-08a3b1a240cc",
   "metadata": {},
   "outputs": [
    {
     "data": {
      "image/png": "[encoded data removed]",
      "text/plain": [
       "<Figure size 640x480 with 1 Axes>"
      ]
     },
     "metadata": {},
     "output_type": "display_data"
    }
   ],
   "source": [
    "height = [165,177,160,180,185,155,172]\n",
    "weight = [62,67,55,74,90,43,64]\n",
    "\n",
    "plt.scatter(height,weight)\n",
    "plt.xlabel('Height(m)')\n",
    "plt.ylabel('Weight(kg)')\n",
    "plt.title('Height&Weight')\n",
    "plt.grid(True)"
   ]
  },
  {
   "cell_type": "code",
   "execution_count": 134,
   "id": "31be8b53-026f-4837-859d-55e58702036c",
   "metadata": {},
   "outputs": [
    {
     "data": {
      "image/png": "[encoded data removed]",
      "text/plain": [
       "<Figure size 640x480 with 1 Axes>"
      ]
     },
     "metadata": {},
     "output_type": "display_data"
    }
   ],
   "source": [
    "size = 100*np.arange(1,8)\n",
    "plt.scatter(height,weight,s=size,c='r')\n",
    "plt.show()"
   ]
  },
  {
   "cell_type": "code",
   "execution_count": 135,
   "id": "5f1a5169-e38d-47e9-8fb4-1e66cefcf33a",
   "metadata": {},
   "outputs": [
    {
     "data": {
      "image/png": "[encoded data removed]",
      "text/plain": [
       "<Figure size 640x480 with 1 Axes>"
      ]
     },
     "metadata": {},
     "output_type": "display_data"
    }
   ],
   "source": [
    "member_IDs = ['m_01', 'm_02', 'm_03', 'm_04']\n",
    "before_ex = [27,35,40,33]\n",
    "after_ex = [30,38,42,37]\n",
    "\n",
    "n_data = len(member_IDs)\n",
    "index = np.arange(n_data)\n",
    "colors = ['r','g','b','m']\n",
    "plt.bar(index, before_ex, color = colors, tick_label = member_IDs, width = 0.6)\n",
    "plt.show()"
   ]
  },
  {
   "cell_type": "code",
   "execution_count": 136,
   "id": "76b7be7a-9692-4e4f-8e61-c9beb7118247",
   "metadata": {},
   "outputs": [
    {
     "data": {
      "image/png": "[encoded data removed]",
      "text/plain": [
       "<Figure size 640x480 with 1 Axes>"
      ]
     },
     "metadata": {},
     "output_type": "display_data"
    }
   ],
   "source": [
    "colors = ['r','g','b','m']\n",
    "plt.barh(index, before_ex, color = colors, tick_label = member_IDs)\n",
    "plt.show()"
   ]
  },
  {
   "cell_type": "code",
   "execution_count": 137,
   "id": "b9afaaad-eaa2-41d0-93b9-11a6f7489a13",
   "metadata": {},
   "outputs": [
    {
     "name": "stderr",
     "output_type": "stream",
     "text": [
      "C:\\Users\\imhye\\Anaconda3\\Lib\\site-packages\\IPython\\core\\pylabtools.py:152: UserWarning: Glyph 50967 (\\N{HANGUL SYLLABLE WIS}) missing from current font.\n",
      "  fig.canvas.print_figure(bytes_io, **kw)\n",
      "C:\\Users\\imhye\\Anaconda3\\Lib\\site-packages\\IPython\\core\\pylabtools.py:152: UserWarning: Glyph 47800 (\\N{HANGUL SYLLABLE MOM}) missing from current font.\n",
      "  fig.canvas.print_figure(bytes_io, **kw)\n",
      "C:\\Users\\imhye\\Anaconda3\\Lib\\site-packages\\IPython\\core\\pylabtools.py:152: UserWarning: Glyph 51068 (\\N{HANGUL SYLLABLE IL}) missing from current font.\n",
      "  fig.canvas.print_figure(bytes_io, **kw)\n",
      "C:\\Users\\imhye\\Anaconda3\\Lib\\site-packages\\IPython\\core\\pylabtools.py:152: UserWarning: Glyph 51060 (\\N{HANGUL SYLLABLE I}) missing from current font.\n",
      "  fig.canvas.print_figure(bytes_io, **kw)\n",
      "C:\\Users\\imhye\\Anaconda3\\Lib\\site-packages\\IPython\\core\\pylabtools.py:152: UserWarning: Glyph 53412 (\\N{HANGUL SYLLABLE KI}) missing from current font.\n",
      "  fig.canvas.print_figure(bytes_io, **kw)\n",
      "C:\\Users\\imhye\\Anaconda3\\Lib\\site-packages\\IPython\\core\\pylabtools.py:152: UserWarning: Glyph 44592 (\\N{HANGUL SYLLABLE GI}) missing from current font.\n",
      "  fig.canvas.print_figure(bytes_io, **kw)\n",
      "C:\\Users\\imhye\\Anaconda3\\Lib\\site-packages\\IPython\\core\\pylabtools.py:152: UserWarning: Glyph 54943 (\\N{HANGUL SYLLABLE HOES}) missing from current font.\n",
      "  fig.canvas.print_figure(bytes_io, **kw)\n",
      "C:\\Users\\imhye\\Anaconda3\\Lib\\site-packages\\IPython\\core\\pylabtools.py:152: UserWarning: Glyph 49688 (\\N{HANGUL SYLLABLE SU}) missing from current font.\n",
      "  fig.canvas.print_figure(bytes_io, **kw)\n",
      "C:\\Users\\imhye\\Anaconda3\\Lib\\site-packages\\IPython\\core\\pylabtools.py:152: UserWarning: Glyph 50868 (\\N{HANGUL SYLLABLE UN}) missing from current font.\n",
      "  fig.canvas.print_figure(bytes_io, **kw)\n",
      "C:\\Users\\imhye\\Anaconda3\\Lib\\site-packages\\IPython\\core\\pylabtools.py:152: UserWarning: Glyph 46041 (\\N{HANGUL SYLLABLE DONG}) missing from current font.\n",
      "  fig.canvas.print_figure(bytes_io, **kw)\n",
      "C:\\Users\\imhye\\Anaconda3\\Lib\\site-packages\\IPython\\core\\pylabtools.py:152: UserWarning: Glyph 49884 (\\N{HANGUL SYLLABLE SI}) missing from current font.\n",
      "  fig.canvas.print_figure(bytes_io, **kw)\n",
      "C:\\Users\\imhye\\Anaconda3\\Lib\\site-packages\\IPython\\core\\pylabtools.py:152: UserWarning: Glyph 51089 (\\N{HANGUL SYLLABLE JAG}) missing from current font.\n",
      "  fig.canvas.print_figure(bytes_io, **kw)\n",
      "C:\\Users\\imhye\\Anaconda3\\Lib\\site-packages\\IPython\\core\\pylabtools.py:152: UserWarning: Glyph 51204 (\\N{HANGUL SYLLABLE JEON}) missing from current font.\n",
      "  fig.canvas.print_figure(bytes_io, **kw)\n",
      "C:\\Users\\imhye\\Anaconda3\\Lib\\site-packages\\IPython\\core\\pylabtools.py:152: UserWarning: Glyph 44284 (\\N{HANGUL SYLLABLE GWA}) missing from current font.\n",
      "  fig.canvas.print_figure(bytes_io, **kw)\n",
      "C:\\Users\\imhye\\Anaconda3\\Lib\\site-packages\\IPython\\core\\pylabtools.py:152: UserWarning: Glyph 54980 (\\N{HANGUL SYLLABLE HU}) missing from current font.\n",
      "  fig.canvas.print_figure(bytes_io, **kw)\n",
      "C:\\Users\\imhye\\Anaconda3\\Lib\\site-packages\\IPython\\core\\pylabtools.py:152: UserWarning: Glyph 51032 (\\N{HANGUL SYLLABLE YI}) missing from current font.\n",
      "  fig.canvas.print_figure(bytes_io, **kw)\n",
      "C:\\Users\\imhye\\Anaconda3\\Lib\\site-packages\\IPython\\core\\pylabtools.py:152: UserWarning: Glyph 44540 (\\N{HANGUL SYLLABLE GEUN}) missing from current font.\n",
      "  fig.canvas.print_figure(bytes_io, **kw)\n",
      "C:\\Users\\imhye\\Anaconda3\\Lib\\site-packages\\IPython\\core\\pylabtools.py:152: UserWarning: Glyph 51648 (\\N{HANGUL SYLLABLE JI}) missing from current font.\n",
      "  fig.canvas.print_figure(bytes_io, **kw)\n",
      "C:\\Users\\imhye\\Anaconda3\\Lib\\site-packages\\IPython\\core\\pylabtools.py:152: UserWarning: Glyph 44396 (\\N{HANGUL SYLLABLE GU}) missing from current font.\n",
      "  fig.canvas.print_figure(bytes_io, **kw)\n",
      "C:\\Users\\imhye\\Anaconda3\\Lib\\site-packages\\IPython\\core\\pylabtools.py:152: UserWarning: Glyph 47141 (\\N{HANGUL SYLLABLE RYEOG}) missing from current font.\n",
      "  fig.canvas.print_figure(bytes_io, **kw)\n",
      "C:\\Users\\imhye\\Anaconda3\\Lib\\site-packages\\IPython\\core\\pylabtools.py:152: UserWarning: Glyph 48373 (\\N{HANGUL SYLLABLE BOG}) missing from current font.\n",
      "  fig.canvas.print_figure(bytes_io, **kw)\n",
      "C:\\Users\\imhye\\Anaconda3\\Lib\\site-packages\\IPython\\core\\pylabtools.py:152: UserWarning: Glyph 48320 (\\N{HANGUL SYLLABLE BYEON}) missing from current font.\n",
      "  fig.canvas.print_figure(bytes_io, **kw)\n",
      "C:\\Users\\imhye\\Anaconda3\\Lib\\site-packages\\IPython\\core\\pylabtools.py:152: UserWarning: Glyph 54868 (\\N{HANGUL SYLLABLE HWA}) missing from current font.\n",
      "  fig.canvas.print_figure(bytes_io, **kw)\n",
      "C:\\Users\\imhye\\Anaconda3\\Lib\\site-packages\\IPython\\core\\pylabtools.py:152: UserWarning: Glyph 48708 (\\N{HANGUL SYLLABLE BI}) missing from current font.\n",
      "  fig.canvas.print_figure(bytes_io, **kw)\n",
      "C:\\Users\\imhye\\Anaconda3\\Lib\\site-packages\\IPython\\core\\pylabtools.py:152: UserWarning: Glyph 44368 (\\N{HANGUL SYLLABLE GYO}) missing from current font.\n",
      "  fig.canvas.print_figure(bytes_io, **kw)\n",
      "C:\\Users\\imhye\\Anaconda3\\Lib\\site-packages\\IPython\\core\\pylabtools.py:152: UserWarning: Glyph 54924 (\\N{HANGUL SYLLABLE HOE}) missing from current font.\n",
      "  fig.canvas.print_figure(bytes_io, **kw)\n",
      "C:\\Users\\imhye\\Anaconda3\\Lib\\site-packages\\IPython\\core\\pylabtools.py:152: UserWarning: Glyph 50896 (\\N{HANGUL SYLLABLE WEON}) missing from current font.\n",
      "  fig.canvas.print_figure(bytes_io, **kw)\n"
     ]
    },
    {
     "data": {
      "image/png": "[encoded data removed]",
      "text/plain": [
       "<Figure size 640x480 with 1 Axes>"
      ]
     },
     "metadata": {},
     "output_type": "display_data"
    }
   ],
   "source": [
    "import matplotlib.pyplot as plt\n",
    "\n",
    "barWidth = 0.4\n",
    "index = range(len(member_IDs))\n",
    "\n",
    "plt.bar(index, before_ex, color='c', align='edge', width=barWidth, label='before')\n",
    "plt.bar([i + barWidth for i in index], after_ex, color='m', align='edge', width=barWidth, label='after')\n",
    "\n",
    "plt.xticks([i + barWidth/2 for i in index], member_IDs)  # Adjust xticks position\n",
    "plt.legend()\n",
    "plt.xlabel('회원 ID')\n",
    "plt.ylabel('윗몸일이키기 횟수')\n",
    "plt.title('운동 시작 전과 후의 근지구력(복근) 변화 비교')\n",
    "plt.show()"
   ]
  },
  {
   "cell_type": "code",
   "execution_count": 138,
   "id": "c75c3ceb-2e33-4bea-b09c-0ac5fe219a80",
   "metadata": {},
   "outputs": [
    {
     "data": {
      "text/plain": [
       "(array([1., 0., 3., 2., 5., 5., 5., 1., 2., 1.]),\n",
       " array([ 60.,  64.,  68.,  72.,  76.,  80.,  84.,  88.,  92.,  96., 100.]),\n",
       " <BarContainer object of 10 artists>)"
      ]
     },
     "execution_count": 138,
     "metadata": {},
     "output_type": "execute_result"
    },
    {
     "data": {
      "image/png": "[encoded data removed]",
      "text/plain": [
       "<Figure size 640x480 with 1 Axes>"
      ]
     },
     "metadata": {},
     "output_type": "display_data"
    }
   ],
   "source": [
    "math = [76,82,84,83,90,86,85,92,72,71,100,87,81,76,94,78,81,60,79,69,74,87,82,68,79]\n",
    "plt.hist(math)"
   ]
  },
  {
   "cell_type": "code",
   "execution_count": 139,
   "id": "6614c12d-e61f-469f-b2ee-b8cdebbf9b86",
   "metadata": {},
   "outputs": [
    {
     "data": {
      "image/png": "[encoded data removed]",
      "text/plain": [
       "<Figure size 640x480 with 1 Axes>"
      ]
     },
     "metadata": {},
     "output_type": "display_data"
    }
   ],
   "source": [
    "plt.hist(math, bins=8)\n",
    "plt.show()"
   ]
  },
  {
   "cell_type": "code",
   "execution_count": 140,
   "id": "0ea85737-a2a1-4634-a555-93482f4685b4",
   "metadata": {},
   "outputs": [
    {
     "name": "stderr",
     "output_type": "stream",
     "text": [
      "C:\\Users\\imhye\\Anaconda3\\Lib\\site-packages\\IPython\\core\\pylabtools.py:152: UserWarning: Glyph 49324 (\\N{HANGUL SYLLABLE SA}) missing from current font.\n",
      "  fig.canvas.print_figure(bytes_io, **kw)\n",
      "C:\\Users\\imhye\\Anaconda3\\Lib\\site-packages\\IPython\\core\\pylabtools.py:152: UserWarning: Glyph 48148 (\\N{HANGUL SYLLABLE BA}) missing from current font.\n",
      "  fig.canvas.print_figure(bytes_io, **kw)\n",
      "C:\\Users\\imhye\\Anaconda3\\Lib\\site-packages\\IPython\\core\\pylabtools.py:152: UserWarning: Glyph 45208 (\\N{HANGUL SYLLABLE NA}) missing from current font.\n",
      "  fig.canvas.print_figure(bytes_io, **kw)\n",
      "C:\\Users\\imhye\\Anaconda3\\Lib\\site-packages\\IPython\\core\\pylabtools.py:152: UserWarning: Glyph 46392 (\\N{HANGUL SYLLABLE DDAL}) missing from current font.\n",
      "  fig.canvas.print_figure(bytes_io, **kw)\n",
      "C:\\Users\\imhye\\Anaconda3\\Lib\\site-packages\\IPython\\core\\pylabtools.py:152: UserWarning: Glyph 50724 (\\N{HANGUL SYLLABLE O}) missing from current font.\n",
      "  fig.canvas.print_figure(bytes_io, **kw)\n",
      "C:\\Users\\imhye\\Anaconda3\\Lib\\site-packages\\IPython\\core\\pylabtools.py:152: UserWarning: Glyph 47116 (\\N{HANGUL SYLLABLE REN}) missing from current font.\n",
      "  fig.canvas.print_figure(bytes_io, **kw)\n",
      "C:\\Users\\imhye\\Anaconda3\\Lib\\site-packages\\IPython\\core\\pylabtools.py:152: UserWarning: Glyph 54252 (\\N{HANGUL SYLLABLE PO}) missing from current font.\n",
      "  fig.canvas.print_figure(bytes_io, **kw)\n",
      "C:\\Users\\imhye\\Anaconda3\\Lib\\site-packages\\IPython\\core\\pylabtools.py:152: UserWarning: Glyph 46020 (\\N{HANGUL SYLLABLE DO}) missing from current font.\n",
      "  fig.canvas.print_figure(bytes_io, **kw)\n"
     ]
    },
    {
     "data": {
      "image/png": "[encoded data removed]",
      "text/plain": [
       "<Figure size 500x500 with 1 Axes>"
      ]
     },
     "metadata": {},
     "output_type": "display_data"
    }
   ],
   "source": [
    "fruit = ['사과', '바나나', '딸기', '오렌지', '포도']\n",
    "result = [7,6,3,2,2]\n",
    "\n",
    "plt.figure(figsize=(5,5))\n",
    "plt.pie(result, labels=fruit, autopct='%.1f%%')\n",
    "plt.show()"
   ]
  },
  {
   "cell_type": "code",
   "execution_count": null,
   "id": "7cf54d54-a3fa-4643-b21e-4a5a6fd015dd",
   "metadata": {},
   "outputs": [],
   "source": []
  }
 ],
 "metadata": {
  "kernelspec": {
   "display_name": "Python 3 (ipykernel)",
   "language": "python",
   "name": "python3"
  },
  "language_info": {
   "codemirror_mode": {
    "name": "ipython",
    "version": 3
   },
   "file_extension": ".py",
   "mimetype": "text/x-python",
   "name": "python",
   "nbconvert_exporter": "python",
   "pygments_lexer": "ipython3",
   "version": "3.11.5"
  }
 },
 "nbformat": 4,
 "nbformat_minor": 5
}
